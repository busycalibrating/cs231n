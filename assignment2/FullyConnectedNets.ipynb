{
 "cells": [
  {
   "cell_type": "markdown",
   "metadata": {
    "colab_type": "text",
    "id": "TaUqgARA-8HE",
    "tags": [
     "pdf-title"
    ]
   },
   "source": [
    "# Fully-Connected Neural Nets\n",
    "In the previous homework you implemented a fully-connected two-layer neural network on CIFAR-10. The implementation was simple but not very modular since the loss and gradient were computed in a single monolithic function. This is manageable for a simple two-layer network, but would become impractical as we move to bigger models. Ideally we want to build networks using a more modular design so that we can implement different layer types in isolation and then snap them together into models with different architectures."
   ]
  },
  {
   "cell_type": "markdown",
   "metadata": {
    "colab_type": "text",
    "id": "uAW8cWQX-8HH",
    "tags": [
     "pdf-ignore"
    ]
   },
   "source": [
    "In this exercise we will implement fully-connected networks using a more modular approach. For each layer we will implement a `forward` and a `backward` function. The `forward` function will receive inputs, weights, and other parameters and will return both an output and a `cache` object storing data needed for the backward pass, like this:\n",
    "\n",
    "```python\n",
    "def layer_forward(x, w):\n",
    "  \"\"\" Receive inputs x and weights w \"\"\"\n",
    "  # Do some computations ...\n",
    "  z = # ... some intermediate value\n",
    "  # Do some more computations ...\n",
    "  out = # the output\n",
    "   \n",
    "  cache = (x, w, z, out) # Values we need to compute gradients\n",
    "   \n",
    "  return out, cache\n",
    "```\n",
    "\n",
    "The backward pass will receive upstream derivatives and the `cache` object, and will return gradients with respect to the inputs and weights, like this:\n",
    "\n",
    "```python\n",
    "def layer_backward(dout, cache):\n",
    "  \"\"\"\n",
    "  Receive dout (derivative of loss with respect to outputs) and cache,\n",
    "  and compute derivative with respect to inputs.\n",
    "  \"\"\"\n",
    "  # Unpack cache values\n",
    "  x, w, z, out = cache\n",
    "  \n",
    "  # Use values in cache to compute derivatives\n",
    "  dx = # Derivative of loss with respect to x\n",
    "  dw = # Derivative of loss with respect to w\n",
    "  \n",
    "  return dx, dw\n",
    "```\n",
    "\n",
    "After implementing a bunch of layers this way, we will be able to easily combine them to build classifiers with different architectures.\n",
    "\n",
    "In addition to implementing fully-connected networks of arbitrary depth, we will also explore different update rules for optimization, and introduce Dropout as a regularizer and Batch/Layer Normalization as a tool to more efficiently optimize deep networks.\n",
    "  "
   ]
  },
  {
   "cell_type": "code",
   "execution_count": 0,
   "metadata": {
    "colab": {},
    "colab_type": "code",
    "id": "VdS5onlr-8HJ",
    "tags": [
     "pdf-ignore"
    ]
   },
   "outputs": [],
   "source": [
    "# As usual, a bit of setup\n",
    "from __future__ import print_function\n",
    "import time\n",
    "import numpy as np\n",
    "import matplotlib.pyplot as plt\n",
    "from cs231n.classifiers.fc_net import *\n",
    "from cs231n.data_utils import get_CIFAR10_data\n",
    "from cs231n.gradient_check import eval_numerical_gradient, eval_numerical_gradient_array\n",
    "from cs231n.solver import Solver\n",
    "\n",
    "%matplotlib inline\n",
    "plt.rcParams['figure.figsize'] = (10.0, 8.0) # set default size of plots\n",
    "plt.rcParams['image.interpolation'] = 'nearest'\n",
    "plt.rcParams['image.cmap'] = 'gray'\n",
    "\n",
    "# for auto-reloading external modules\n",
    "# see http://stackoverflow.com/questions/1907993/autoreload-of-modules-in-ipython\n",
    "%load_ext autoreload\n",
    "%autoreload 2\n",
    "\n",
    "def rel_error(x, y):\n",
    "  \"\"\" returns relative error \"\"\"\n",
    "  return np.max(np.abs(x - y) / (np.maximum(1e-8, np.abs(x) + np.abs(y))))"
   ]
  },
  {
   "cell_type": "code",
   "execution_count": 4,
   "metadata": {
    "colab": {
     "base_uri": "https://localhost:8080/",
     "height": 126
    },
    "colab_type": "code",
    "executionInfo": {
     "elapsed": 13933,
     "status": "ok",
     "timestamp": 1586754255254,
     "user": {
      "displayName": "David Dobre",
      "photoUrl": "https://lh3.googleusercontent.com/a-/AOh14Gh6TavuMr2kfWBZw6CxywTCOAeqSYEQsVvQB3qJyw=s64",
      "userId": "01887987037090030935"
     },
     "user_tz": 420
    },
    "id": "9Es3AfdH-8HP",
    "outputId": "3fbb7313-6e2d-4bdb-de2a-34b19ee24a45",
    "tags": [
     "pdf-ignore"
    ]
   },
   "outputs": [
    {
     "name": "stdout",
     "output_type": "stream",
     "text": [
      "('X_train: ', (49000, 3, 32, 32))\n",
      "('y_train: ', (49000,))\n",
      "('X_val: ', (1000, 3, 32, 32))\n",
      "('y_val: ', (1000,))\n",
      "('X_test: ', (1000, 3, 32, 32))\n",
      "('y_test: ', (1000,))\n"
     ]
    }
   ],
   "source": [
    "# Load the (preprocessed) CIFAR10 data.\n",
    "\n",
    "data = get_CIFAR10_data()\n",
    "for k, v in list(data.items()):\n",
    "  print(('%s: ' % k, v.shape))"
   ]
  },
  {
   "cell_type": "markdown",
   "metadata": {
    "colab_type": "text",
    "id": "wDRHL8OW-8HU"
   },
   "source": [
    "# Affine layer: foward\n",
    "Open the file `cs231n/layers.py` and implement the `affine_forward` function.\n",
    "\n",
    "Once you are done you can test your implementaion by running the following:"
   ]
  },
  {
   "cell_type": "code",
   "execution_count": 5,
   "metadata": {
    "colab": {
     "base_uri": "https://localhost:8080/",
     "height": 53
    },
    "colab_type": "code",
    "executionInfo": {
     "elapsed": 11582,
     "status": "ok",
     "timestamp": 1586754255256,
     "user": {
      "displayName": "David Dobre",
      "photoUrl": "https://lh3.googleusercontent.com/a-/AOh14Gh6TavuMr2kfWBZw6CxywTCOAeqSYEQsVvQB3qJyw=s64",
      "userId": "01887987037090030935"
     },
     "user_tz": 420
    },
    "id": "gBlNanXW-8HV",
    "outputId": "0801d3f0-45a6-445b-c687-b565964a08ef"
   },
   "outputs": [
    {
     "name": "stdout",
     "output_type": "stream",
     "text": [
      "Testing affine_forward function:\n",
      "difference:  9.769849468192957e-10\n"
     ]
    }
   ],
   "source": [
    "# Test the affine_forward function\n",
    "\n",
    "num_inputs = 2\n",
    "input_shape = (4, 5, 6)\n",
    "output_dim = 3\n",
    "\n",
    "input_size = num_inputs * np.prod(input_shape)\n",
    "weight_size = output_dim * np.prod(input_shape)\n",
    "\n",
    "x = np.linspace(-0.1, 0.5, num=input_size).reshape(num_inputs, *input_shape)\n",
    "w = np.linspace(-0.2, 0.3, num=weight_size).reshape(np.prod(input_shape), output_dim)\n",
    "b = np.linspace(-0.3, 0.1, num=output_dim)\n",
    "\n",
    "out, _ = affine_forward(x, w, b)\n",
    "correct_out = np.array([[ 1.49834967,  1.70660132,  1.91485297],\n",
    "                        [ 3.25553199,  3.5141327,   3.77273342]])\n",
    "\n",
    "# Compare your output with ours. The error should be around e-9 or less.\n",
    "print('Testing affine_forward function:')\n",
    "print('difference: ', rel_error(out, correct_out))"
   ]
  },
  {
   "cell_type": "markdown",
   "metadata": {
    "colab_type": "text",
    "id": "TJ0aRRLV-8Ha"
   },
   "source": [
    "# Affine layer: backward\n",
    "Now implement the `affine_backward` function and test your implementation using numeric gradient checking."
   ]
  },
  {
   "cell_type": "code",
   "execution_count": 6,
   "metadata": {
    "colab": {
     "base_uri": "https://localhost:8080/",
     "height": 90
    },
    "colab_type": "code",
    "executionInfo": {
     "elapsed": 9886,
     "status": "ok",
     "timestamp": 1586754255258,
     "user": {
      "displayName": "David Dobre",
      "photoUrl": "https://lh3.googleusercontent.com/a-/AOh14Gh6TavuMr2kfWBZw6CxywTCOAeqSYEQsVvQB3qJyw=s64",
      "userId": "01887987037090030935"
     },
     "user_tz": 420
    },
    "id": "K6SDrnWu-8Hb",
    "outputId": "a6fb7252-8d56-47d5-b193-317a3eae98a0"
   },
   "outputs": [
    {
     "name": "stdout",
     "output_type": "stream",
     "text": [
      "Testing affine_backward function:\n",
      "db error:  2.4122867568119087e-11\n",
      "dw error:  9.904211865398145e-11\n",
      "dx error:  5.399100368651805e-11\n"
     ]
    }
   ],
   "source": [
    "# Test the affine_backward function\n",
    "np.random.seed(231)\n",
    "x = np.random.randn(10, 2, 3)\n",
    "w = np.random.randn(6, 5)\n",
    "b = np.random.randn(5)\n",
    "dout = np.random.randn(10, 5)\n",
    "\n",
    "dx_num = eval_numerical_gradient_array(lambda x: affine_forward(x, w, b)[0], x, dout)\n",
    "dw_num = eval_numerical_gradient_array(lambda w: affine_forward(x, w, b)[0], w, dout)\n",
    "db_num = eval_numerical_gradient_array(lambda b: affine_forward(x, w, b)[0], b, dout)\n",
    "\n",
    "_, cache = affine_forward(x, w, b)\n",
    "dx, dw, db = affine_backward(dout, cache)\n",
    "\n",
    "# The error should be around e-10 or less\n",
    "print('Testing affine_backward function:')\n",
    "print('db error: ', rel_error(db_num, db))\n",
    "print('dw error: ', rel_error(dw_num, dw))\n",
    "print('dx error: ', rel_error(dx_num, dx))\n"
   ]
  },
  {
   "cell_type": "markdown",
   "metadata": {
    "colab_type": "text",
    "id": "yCPog94v-8Hg"
   },
   "source": [
    "# ReLU activation: forward\n",
    "Implement the forward pass for the ReLU activation function in the `relu_forward` function and test your implementation using the following:"
   ]
  },
  {
   "cell_type": "code",
   "execution_count": 7,
   "metadata": {
    "colab": {
     "base_uri": "https://localhost:8080/",
     "height": 53
    },
    "colab_type": "code",
    "executionInfo": {
     "elapsed": 8611,
     "status": "ok",
     "timestamp": 1586754255260,
     "user": {
      "displayName": "David Dobre",
      "photoUrl": "https://lh3.googleusercontent.com/a-/AOh14Gh6TavuMr2kfWBZw6CxywTCOAeqSYEQsVvQB3qJyw=s64",
      "userId": "01887987037090030935"
     },
     "user_tz": 420
    },
    "id": "HR8daKpB-8Hg",
    "outputId": "5bfbd6ef-9b52-4aa3-9efd-056f837f6755"
   },
   "outputs": [
    {
     "name": "stdout",
     "output_type": "stream",
     "text": [
      "Testing relu_forward function:\n",
      "difference:  4.999999798022158e-08\n"
     ]
    }
   ],
   "source": [
    "# Test the relu_forward function\n",
    "\n",
    "x = np.linspace(-0.5, 0.5, num=12).reshape(3, 4)\n",
    "\n",
    "out, _ = relu_forward(x)\n",
    "correct_out = np.array([[ 0.,          0.,          0.,          0.,        ],\n",
    "                        [ 0.,          0.,          0.04545455,  0.13636364,],\n",
    "                        [ 0.22727273,  0.31818182,  0.40909091,  0.5,       ]])\n",
    "\n",
    "# Compare your output with ours. The error should be on the order of e-8\n",
    "print('Testing relu_forward function:')\n",
    "print('difference: ', rel_error(out, correct_out))"
   ]
  },
  {
   "cell_type": "markdown",
   "metadata": {
    "colab_type": "text",
    "id": "4QK8a0cf-8Hl"
   },
   "source": [
    "# ReLU activation: backward\n",
    "Now implement the backward pass for the ReLU activation function in the `relu_backward` function and test your implementation using numeric gradient checking:"
   ]
  },
  {
   "cell_type": "code",
   "execution_count": 9,
   "metadata": {
    "colab": {
     "base_uri": "https://localhost:8080/",
     "height": 53
    },
    "colab_type": "code",
    "executionInfo": {
     "elapsed": 387,
     "status": "ok",
     "timestamp": 1586754309723,
     "user": {
      "displayName": "David Dobre",
      "photoUrl": "https://lh3.googleusercontent.com/a-/AOh14Gh6TavuMr2kfWBZw6CxywTCOAeqSYEQsVvQB3qJyw=s64",
      "userId": "01887987037090030935"
     },
     "user_tz": 420
    },
    "id": "8ugfT2BO-8Hm",
    "outputId": "899bff65-ac06-4d1e-bf16-04b4101d7002"
   },
   "outputs": [
    {
     "name": "stdout",
     "output_type": "stream",
     "text": [
      "Testing relu_backward function:\n",
      "dx error:  3.2756349136310288e-12\n"
     ]
    }
   ],
   "source": [
    "np.random.seed(231)\n",
    "x = np.random.randn(10, 10)\n",
    "dout = np.random.randn(*x.shape)\n",
    "\n",
    "dx_num = eval_numerical_gradient_array(lambda x: relu_forward(x)[0], x, dout)\n",
    "\n",
    "_, cache = relu_forward(x)\n",
    "dx = relu_backward(dout, cache)\n",
    "\n",
    "# The error should be on the order of e-12\n",
    "print('Testing relu_backward function:')\n",
    "print('dx error: ', rel_error(dx_num, dx))"
   ]
  },
  {
   "cell_type": "markdown",
   "metadata": {
    "colab_type": "text",
    "id": "QBq1L9WP-8Hs",
    "tags": [
     "pdf-inline"
    ]
   },
   "source": [
    "## Inline Question 1: \n",
    "\n",
    "We've only asked you to implement ReLU, but there are a number of different activation functions that one could use in neural networks, each with its pros and cons. In particular, an issue commonly seen with activation functions is getting zero (or close to zero) gradient flow during backpropagation. Which of the following activation functions have this problem? If you consider these functions in the one dimensional case, what types of input would lead to this behaviour?\n",
    "1. Sigmoid\n",
    "2. ReLU\n",
    "3. Leaky ReLU\n",
    "\n",
    "## Answer:\n",
    "1. Sigmoid - as the values approach the values of saturation, the sigmoid function plateaus in both the positive and negative regimes, resulting in a zero gradient. \n",
    "\n",
    "2. ReLU has this problem if x < 0, i.e. it's a \"dead activation\". \n",
    "\n",
    "3. No such problem."
   ]
  },
  {
   "cell_type": "markdown",
   "metadata": {
    "colab_type": "text",
    "id": "Ajyg48Ko-8Hs"
   },
   "source": [
    "# \"Sandwich\" layers\n",
    "There are some common patterns of layers that are frequently used in neural nets. For example, affine layers are frequently followed by a ReLU nonlinearity. To make these common patterns easy, we define several convenience layers in the file `cs231n/layer_utils.py`.\n",
    "\n",
    "For now take a look at the `affine_relu_forward` and `affine_relu_backward` functions, and run the following to numerically gradient check the backward pass:"
   ]
  },
  {
   "cell_type": "code",
   "execution_count": 0,
   "metadata": {
    "colab": {
     "base_uri": "https://localhost:8080/",
     "height": 90
    },
    "colab_type": "code",
    "executionInfo": {
     "elapsed": 425,
     "status": "ok",
     "timestamp": 1586726091739,
     "user": {
      "displayName": "David Dobre",
      "photoUrl": "https://lh3.googleusercontent.com/a-/AOh14Gh6TavuMr2kfWBZw6CxywTCOAeqSYEQsVvQB3qJyw=s64",
      "userId": "01887987037090030935"
     },
     "user_tz": 420
    },
    "id": "tKiNzWAz-8Ht",
    "outputId": "1f410101-a8ad-4edc-97a0-b4acceea35ad"
   },
   "outputs": [
    {
     "name": "stdout",
     "output_type": "stream",
     "text": [
      "Testing affine_relu_forward and affine_relu_backward:\n",
      "dx error:  2.299579177309368e-11\n",
      "dw error:  8.162011105764925e-11\n",
      "db error:  7.826724021458994e-12\n"
     ]
    }
   ],
   "source": [
    "from cs231n.layer_utils import affine_relu_forward, affine_relu_backward\n",
    "np.random.seed(231)\n",
    "x = np.random.randn(2, 3, 4)\n",
    "w = np.random.randn(12, 10)\n",
    "b = np.random.randn(10)\n",
    "dout = np.random.randn(2, 10)\n",
    "\n",
    "out, cache = affine_relu_forward(x, w, b)\n",
    "dx, dw, db = affine_relu_backward(dout, cache)\n",
    "\n",
    "dx_num = eval_numerical_gradient_array(lambda x: affine_relu_forward(x, w, b)[0], x, dout)\n",
    "dw_num = eval_numerical_gradient_array(lambda w: affine_relu_forward(x, w, b)[0], w, dout)\n",
    "db_num = eval_numerical_gradient_array(lambda b: affine_relu_forward(x, w, b)[0], b, dout)\n",
    "\n",
    "# Relative error should be around e-10 or less\n",
    "print('Testing affine_relu_forward and affine_relu_backward:')\n",
    "print('dx error: ', rel_error(dx_num, dx))\n",
    "print('dw error: ', rel_error(dw_num, dw))\n",
    "print('db error: ', rel_error(db_num, db))"
   ]
  },
  {
   "cell_type": "markdown",
   "metadata": {
    "colab_type": "text",
    "id": "m8aofnv9-8Hy"
   },
   "source": [
    "# Loss layers: Softmax and SVM\n",
    "You implemented these loss functions in the last assignment, so we'll give them to you for free here. You should still make sure you understand how they work by looking at the implementations in `cs231n/layers.py`.\n",
    "\n",
    "You can make sure that the implementations are correct by running the following:"
   ]
  },
  {
   "cell_type": "code",
   "execution_count": 0,
   "metadata": {
    "colab": {
     "base_uri": "https://localhost:8080/",
     "height": 144
    },
    "colab_type": "code",
    "executionInfo": {
     "elapsed": 570,
     "status": "ok",
     "timestamp": 1586726093427,
     "user": {
      "displayName": "David Dobre",
      "photoUrl": "https://lh3.googleusercontent.com/a-/AOh14Gh6TavuMr2kfWBZw6CxywTCOAeqSYEQsVvQB3qJyw=s64",
      "userId": "01887987037090030935"
     },
     "user_tz": 420
    },
    "id": "YaWvb0AD-8Hy",
    "outputId": "aadbd273-bc26-4b8a-e57f-340b3e2ac9d0"
   },
   "outputs": [
    {
     "name": "stdout",
     "output_type": "stream",
     "text": [
      "Testing svm_loss:\n",
      "loss:  8.999602749096233\n",
      "dx error:  1.4021566006651672e-09\n",
      "\n",
      "Testing softmax_loss:\n",
      "loss:  2.302545844500738\n",
      "dx error:  9.384673161989355e-09\n"
     ]
    }
   ],
   "source": [
    "np.random.seed(231)\n",
    "num_classes, num_inputs = 10, 50\n",
    "x = 0.001 * np.random.randn(num_inputs, num_classes)\n",
    "y = np.random.randint(num_classes, size=num_inputs)\n",
    "\n",
    "dx_num = eval_numerical_gradient(lambda x: svm_loss(x, y)[0], x, verbose=False)\n",
    "loss, dx = svm_loss(x, y)\n",
    "\n",
    "# Test svm_loss function. Loss should be around 9 and dx error should be around the order of e-9\n",
    "print('Testing svm_loss:')\n",
    "print('loss: ', loss)\n",
    "print('dx error: ', rel_error(dx_num, dx))\n",
    "\n",
    "dx_num = eval_numerical_gradient(lambda x: softmax_loss(x, y)[0], x, verbose=False)\n",
    "loss, dx = softmax_loss(x, y)\n",
    "\n",
    "# Test softmax_loss function. Loss should be close to 2.3 and dx error should be around e-8\n",
    "print('\\nTesting softmax_loss:')\n",
    "print('loss: ', loss)\n",
    "print('dx error: ', rel_error(dx_num, dx))"
   ]
  },
  {
   "cell_type": "markdown",
   "metadata": {
    "colab_type": "text",
    "id": "jhGc6bWR-8H1"
   },
   "source": [
    "# Two-layer network\n",
    "In the previous assignment you implemented a two-layer neural network in a single monolithic class. Now that you have implemented modular versions of the necessary layers, you will reimplement the two layer network using these modular implementations.\n",
    "\n",
    "Open the file `cs231n/classifiers/fc_net.py` and complete the implementation of the `TwoLayerNet` class. This class will serve as a model for the other networks you will implement in this assignment, so read through it to make sure you understand the API. You can run the cell below to test your implementation."
   ]
  },
  {
   "cell_type": "code",
   "execution_count": 0,
   "metadata": {
    "colab": {
     "base_uri": "https://localhost:8080/",
     "height": 253
    },
    "colab_type": "code",
    "executionInfo": {
     "elapsed": 737,
     "status": "ok",
     "timestamp": 1586726094834,
     "user": {
      "displayName": "David Dobre",
      "photoUrl": "https://lh3.googleusercontent.com/a-/AOh14Gh6TavuMr2kfWBZw6CxywTCOAeqSYEQsVvQB3qJyw=s64",
      "userId": "01887987037090030935"
     },
     "user_tz": 420
    },
    "id": "EvyXYV-x-8H2",
    "outputId": "21d5eccb-7982-4e23-9055-13a47b4a22d0"
   },
   "outputs": [
    {
     "name": "stdout",
     "output_type": "stream",
     "text": [
      "Testing initialization ... \n",
      "Testing test-time forward pass ... \n",
      "Testing training loss (no regularization)\n",
      "Running numeric gradient check with reg =  0.0\n",
      "W1 relative error: 1.83e-08\n",
      "W2 relative error: 3.12e-10\n",
      "b1 relative error: 9.83e-09\n",
      "b2 relative error: 4.33e-10\n",
      "Running numeric gradient check with reg =  0.7\n",
      "W1 relative error: 3.12e-07\n",
      "W2 relative error: 7.98e-08\n",
      "b1 relative error: 1.35e-08\n",
      "b2 relative error: 1.97e-09\n"
     ]
    }
   ],
   "source": [
    "np.random.seed(231)\n",
    "N, D, H, C = 3, 5, 50, 7\n",
    "X = np.random.randn(N, D)\n",
    "y = np.random.randint(C, size=N)\n",
    "\n",
    "std = 1e-3\n",
    "model = TwoLayerNet(input_dim=D, hidden_dim=H, num_classes=C, weight_scale=std)\n",
    "\n",
    "print('Testing initialization ... ')\n",
    "W1_std = abs(model.params['W1'].std() - std)\n",
    "b1 = model.params['b1']\n",
    "W2_std = abs(model.params['W2'].std() - std)\n",
    "b2 = model.params['b2']\n",
    "assert W1_std < std / 10, 'First layer weights do not seem right'\n",
    "assert np.all(b1 == 0), 'First layer biases do not seem right'\n",
    "assert W2_std < std / 10, 'Second layer weights do not seem right'\n",
    "assert np.all(b2 == 0), 'Second layer biases do not seem right'\n",
    "\n",
    "print('Testing test-time forward pass ... ')\n",
    "model.params['W1'] = np.linspace(-0.7, 0.3, num=D*H).reshape(D, H)\n",
    "model.params['b1'] = np.linspace(-0.1, 0.9, num=H)\n",
    "model.params['W2'] = np.linspace(-0.3, 0.4, num=H*C).reshape(H, C)\n",
    "model.params['b2'] = np.linspace(-0.9, 0.1, num=C)\n",
    "X = np.linspace(-5.5, 4.5, num=N*D).reshape(D, N).T\n",
    "scores = model.loss(X)\n",
    "correct_scores = np.asarray(\n",
    "  [[11.53165108,  12.2917344,   13.05181771,  13.81190102,  14.57198434, 15.33206765,  16.09215096],\n",
    "   [12.05769098,  12.74614105,  13.43459113,  14.1230412,   14.81149128, 15.49994135,  16.18839143],\n",
    "   [12.58373087,  13.20054771,  13.81736455,  14.43418138,  15.05099822, 15.66781506,  16.2846319 ]])\n",
    "scores_diff = np.abs(scores - correct_scores).sum()\n",
    "assert scores_diff < 1e-6, 'Problem with test-time forward pass'\n",
    "\n",
    "print('Testing training loss (no regularization)')\n",
    "y = np.asarray([0, 5, 1])\n",
    "loss, grads = model.loss(X, y)\n",
    "correct_loss = 3.4702243556\n",
    "assert abs(loss - correct_loss) < 1e-10, 'Problem with training-time loss'\n",
    "\n",
    "model.reg = 1.0\n",
    "loss, grads = model.loss(X, y)\n",
    "correct_loss = 26.5948426952\n",
    "assert abs(loss - correct_loss) < 1e-10, 'Problem with regularization loss; correct loss %s, got %s' % (correct_loss, loss)\n",
    "\n",
    "# Errors should be around e-7 or less\n",
    "for reg in [0.0, 0.7]:\n",
    "  print('Running numeric gradient check with reg = ', reg)\n",
    "  model.reg = reg\n",
    "  loss, grads = model.loss(X, y)\n",
    "\n",
    "  for name in sorted(grads):\n",
    "    f = lambda _: model.loss(X, y)[0]\n",
    "    grad_num = eval_numerical_gradient(f, model.params[name], verbose=False)\n",
    "    print('%s relative error: %.2e' % (name, rel_error(grad_num, grads[name])))"
   ]
  },
  {
   "cell_type": "markdown",
   "metadata": {
    "colab_type": "text",
    "id": "2-ZhNPDZ-8H6"
   },
   "source": [
    "# Solver\n",
    "In the previous assignment, the logic for training models was coupled to the models themselves. Following a more modular design, for this assignment we have split the logic for training models into a separate class.\n",
    "\n",
    "Open the file `cs231n/solver.py` and read through it to familiarize yourself with the API. After doing so, use a `Solver` instance to train a `TwoLayerNet` that achieves at least `50%` accuracy on the validation set."
   ]
  },
  {
   "cell_type": "code",
   "execution_count": 0,
   "metadata": {
    "colab": {
     "base_uri": "https://localhost:8080/",
     "height": 1000
    },
    "colab_type": "code",
    "executionInfo": {
     "elapsed": 69691,
     "status": "ok",
     "timestamp": 1586726167405,
     "user": {
      "displayName": "David Dobre",
      "photoUrl": "https://lh3.googleusercontent.com/a-/AOh14Gh6TavuMr2kfWBZw6CxywTCOAeqSYEQsVvQB3qJyw=s64",
      "userId": "01887987037090030935"
     },
     "user_tz": 420
    },
    "id": "RBaONxAR-8H6",
    "outputId": "aaabce78-34b7-450f-82c8-df6f3f603b0d"
   },
   "outputs": [
    {
     "name": "stdout",
     "output_type": "stream",
     "text": [
      "(Iteration 1 / 4900) loss: 2.304060\n",
      "(Epoch 0 / 10) train acc: 0.116000; val_acc: 0.094000\n",
      "(Iteration 101 / 4900) loss: 1.829613\n",
      "(Iteration 201 / 4900) loss: 1.857390\n",
      "(Iteration 301 / 4900) loss: 1.744448\n",
      "(Iteration 401 / 4900) loss: 1.420187\n",
      "(Epoch 1 / 10) train acc: 0.407000; val_acc: 0.422000\n",
      "(Iteration 501 / 4900) loss: 1.565913\n",
      "(Iteration 601 / 4900) loss: 1.700510\n",
      "(Iteration 701 / 4900) loss: 1.732213\n",
      "(Iteration 801 / 4900) loss: 1.688361\n",
      "(Iteration 901 / 4900) loss: 1.439529\n",
      "(Epoch 2 / 10) train acc: 0.497000; val_acc: 0.468000\n",
      "(Iteration 1001 / 4900) loss: 1.385772\n",
      "(Iteration 1101 / 4900) loss: 1.278401\n",
      "(Iteration 1201 / 4900) loss: 1.641580\n",
      "(Iteration 1301 / 4900) loss: 1.438847\n",
      "(Iteration 1401 / 4900) loss: 1.172536\n",
      "(Epoch 3 / 10) train acc: 0.490000; val_acc: 0.466000\n",
      "(Iteration 1501 / 4900) loss: 1.346286\n",
      "(Iteration 1601 / 4900) loss: 1.268492\n",
      "(Iteration 1701 / 4900) loss: 1.318215\n",
      "(Iteration 1801 / 4900) loss: 1.395750\n",
      "(Iteration 1901 / 4900) loss: 1.338233\n",
      "(Epoch 4 / 10) train acc: 0.532000; val_acc: 0.497000\n",
      "(Iteration 2001 / 4900) loss: 1.343165\n",
      "(Iteration 2101 / 4900) loss: 1.393173\n",
      "(Iteration 2201 / 4900) loss: 1.276734\n",
      "(Iteration 2301 / 4900) loss: 1.287951\n",
      "(Iteration 2401 / 4900) loss: 1.352778\n",
      "(Epoch 5 / 10) train acc: 0.525000; val_acc: 0.475000\n",
      "(Iteration 2501 / 4900) loss: 1.390234\n",
      "(Iteration 2601 / 4900) loss: 1.276361\n",
      "(Iteration 2701 / 4900) loss: 1.111768\n",
      "(Iteration 2801 / 4900) loss: 1.271688\n",
      "(Iteration 2901 / 4900) loss: 1.272039\n",
      "(Epoch 6 / 10) train acc: 0.546000; val_acc: 0.509000\n",
      "(Iteration 3001 / 4900) loss: 1.304489\n",
      "(Iteration 3101 / 4900) loss: 1.346667\n",
      "(Iteration 3201 / 4900) loss: 1.325510\n",
      "(Iteration 3301 / 4900) loss: 1.392728\n",
      "(Iteration 3401 / 4900) loss: 1.402001\n",
      "(Epoch 7 / 10) train acc: 0.567000; val_acc: 0.505000\n",
      "(Iteration 3501 / 4900) loss: 1.319024\n",
      "(Iteration 3601 / 4900) loss: 1.153287\n",
      "(Iteration 3701 / 4900) loss: 1.180922\n",
      "(Iteration 3801 / 4900) loss: 1.093164\n",
      "(Iteration 3901 / 4900) loss: 1.135902\n",
      "(Epoch 8 / 10) train acc: 0.568000; val_acc: 0.490000\n",
      "(Iteration 4001 / 4900) loss: 1.191735\n",
      "(Iteration 4101 / 4900) loss: 1.359396\n",
      "(Iteration 4201 / 4900) loss: 1.227283\n",
      "(Iteration 4301 / 4900) loss: 1.024113\n",
      "(Iteration 4401 / 4900) loss: 1.327583\n",
      "(Epoch 9 / 10) train acc: 0.592000; val_acc: 0.504000\n",
      "(Iteration 4501 / 4900) loss: 0.963330\n",
      "(Iteration 4601 / 4900) loss: 1.445619\n",
      "(Iteration 4701 / 4900) loss: 1.007542\n",
      "(Iteration 4801 / 4900) loss: 1.005175\n",
      "(Epoch 10 / 10) train acc: 0.611000; val_acc: 0.512000\n"
     ]
    }
   ],
   "source": [
    "model = TwoLayerNet()\n",
    "solver = None\n",
    "\n",
    "##############################################################################\n",
    "# TODO: Use a Solver instance to train a TwoLayerNet that achieves at least  #\n",
    "# 50% accuracy on the validation set.                                        #\n",
    "##############################################################################\n",
    "# *****START OF YOUR CODE (DO NOT DELETE/MODIFY THIS LINE)*****\n",
    "\n",
    "\n",
    "data = {\n",
    "    'X_train': data['X_train'],\n",
    "    'y_train': data['y_train'],\n",
    "    'X_val': data['X_val'], \n",
    "    'y_val': data['y_val']\n",
    "}\n",
    "solver = Solver(model, data,\n",
    "                update_rule='sgd',\n",
    "                optim_config={\n",
    "                    'learning_rate': 1e-3,\n",
    "                },\n",
    "                lr_decay=0.95,\n",
    "                num_epochs=10, batch_size=100,\n",
    "                print_every=100)\n",
    "solver.train()\n",
    "\n",
    "# *****END OF YOUR CODE (DO NOT DELETE/MODIFY THIS LINE)*****\n",
    "##############################################################################\n",
    "#                             END OF YOUR CODE                               #\n",
    "##############################################################################"
   ]
  },
  {
   "cell_type": "code",
   "execution_count": 0,
   "metadata": {
    "colab": {
     "base_uri": "https://localhost:8080/",
     "height": 730
    },
    "colab_type": "code",
    "executionInfo": {
     "elapsed": 984,
     "status": "ok",
     "timestamp": 1586726291203,
     "user": {
      "displayName": "David Dobre",
      "photoUrl": "https://lh3.googleusercontent.com/a-/AOh14Gh6TavuMr2kfWBZw6CxywTCOAeqSYEQsVvQB3qJyw=s64",
      "userId": "01887987037090030935"
     },
     "user_tz": 420
    },
    "id": "nGwQ9D9N-8H9",
    "outputId": "5d835666-b71e-4670-8f02-733f08c7c910"
   },
   "outputs": [
    {
     "data": {
      "image/png": "[encoded data removed]",
      "text/plain": [
       "<Figure size 1080x864 with 2 Axes>"
      ]
     },
     "metadata": {
      "needs_background": "light",
      "tags": []
     },
     "output_type": "display_data"
    }
   ],
   "source": [
    "# Run this cell to visualize training loss and train / val accuracy\n",
    "\n",
    "plt.subplot(2, 1, 1)\n",
    "plt.title('Training loss')\n",
    "plt.plot(solver.loss_history, 'o')\n",
    "plt.xlabel('Iteration')\n",
    "\n",
    "plt.subplot(2, 1, 2)\n",
    "plt.title('Accuracy')\n",
    "plt.plot(solver.train_acc_history, '-o', label='train')\n",
    "plt.plot(solver.val_acc_history, '-o', label='val')\n",
    "plt.plot([0.5] * len(solver.val_acc_history), 'k--')\n",
    "plt.xlabel('Epoch')\n",
    "plt.legend(loc='lower right')\n",
    "plt.gcf().set_size_inches(15, 12)\n",
    "plt.show()"
   ]
  },
  {
   "cell_type": "markdown",
   "metadata": {
    "colab_type": "text",
    "id": "erQzwZv7-8IC"
   },
   "source": [
    "# Multilayer network\n",
    "Next you will implement a fully-connected network with an arbitrary number of hidden layers.\n",
    "\n",
    "Read through the `FullyConnectedNet` class in the file `cs231n/classifiers/fc_net.py`.\n",
    "\n",
    "Implement the initialization, the forward pass, and the backward pass. For the moment don't worry about implementing dropout or batch/layer normalization; we will add those features soon."
   ]
  },
  {
   "cell_type": "markdown",
   "metadata": {
    "colab_type": "text",
    "id": "h5cT_IKP-8ID"
   },
   "source": [
    "## Initial loss and gradient check\n",
    "\n",
    "As a sanity check, run the following to check the initial loss and to gradient check the network both with and without regularization. Do the initial losses seem reasonable?\n",
    "\n",
    "For gradient checking, you should expect to see errors around 1e-7 or less."
   ]
  },
  {
   "cell_type": "code",
   "execution_count": 0,
   "metadata": {
    "colab": {
     "base_uri": "https://localhost:8080/",
     "height": 308
    },
    "colab_type": "code",
    "executionInfo": {
     "elapsed": 1511,
     "status": "ok",
     "timestamp": 1586726294101,
     "user": {
      "displayName": "David Dobre",
      "photoUrl": "https://lh3.googleusercontent.com/a-/AOh14Gh6TavuMr2kfWBZw6CxywTCOAeqSYEQsVvQB3qJyw=s64",
      "userId": "01887987037090030935"
     },
     "user_tz": 420
    },
    "id": "WAf4ErKg-8IE",
    "outputId": "e06bffc2-00e3-4260-8352-d2e68fdb5de7"
   },
   "outputs": [
    {
     "name": "stdout",
     "output_type": "stream",
     "text": [
      "Running check with reg =  0\n",
      "Initial loss:  2.3004790897684924\n",
      "W1 relative error: 1.48e-07\n",
      "W2 relative error: 2.21e-05\n",
      "W3 relative error: 3.53e-07\n",
      "b1 relative error: 5.38e-09\n",
      "b2 relative error: 2.09e-09\n",
      "b3 relative error: 5.80e-11\n",
      "Running check with reg =  3.14\n",
      "Initial loss:  7.052114776533016\n",
      "W1 relative error: 7.36e-09\n",
      "W2 relative error: 6.87e-08\n",
      "W3 relative error: 3.48e-08\n",
      "b1 relative error: 1.48e-08\n",
      "b2 relative error: 1.72e-09\n",
      "b3 relative error: 1.80e-10\n"
     ]
    }
   ],
   "source": [
    "np.random.seed(231)\n",
    "N, D, H1, H2, C = 2, 15, 20, 30, 10\n",
    "X = np.random.randn(N, D)\n",
    "y = np.random.randint(C, size=(N,))\n",
    "\n",
    "for reg in [0, 3.14]:\n",
    "  print('Running check with reg = ', reg)\n",
    "  model = FullyConnectedNet([H1, H2], input_dim=D, num_classes=C,\n",
    "                            reg=reg, weight_scale=5e-2, dtype=np.float64)\n",
    "\n",
    "  loss, grads = model.loss(X, y)\n",
    "  print('Initial loss: ', loss)\n",
    "  \n",
    "  # Most of the errors should be on the order of e-7 or smaller.   \n",
    "  # NOTE: It is fine however to see an error for W2 on the order of e-5\n",
    "  # for the check when reg = 0.0\n",
    "  \n",
    "  for name in sorted(grads):\n",
    "    f = lambda _: model.loss(X, y)[0]\n",
    "    grad_num = eval_numerical_gradient(f, model.params[name], verbose=False, h=1e-5)\n",
    "    print('%s relative error: %.2e' % (name, rel_error(grad_num, grads[name])))"
   ]
  },
  {
   "cell_type": "markdown",
   "metadata": {
    "colab_type": "text",
    "id": "3Rh_pYw5-8IK"
   },
   "source": [
    "As another sanity check, make sure you can overfit a small dataset of 50 images. First we will try a three-layer network with 100 units in each hidden layer. In the following cell, tweak the **learning rate** and **weight initialization scale** to overfit and achieve 100% training accuracy within 20 epochs."
   ]
  },
  {
   "cell_type": "code",
   "execution_count": 0,
   "metadata": {
    "colab": {
     "base_uri": "https://localhost:8080/",
     "height": 967
    },
    "colab_type": "code",
    "executionInfo": {
     "elapsed": 2032,
     "status": "ok",
     "timestamp": 1586726298832,
     "user": {
      "displayName": "David Dobre",
      "photoUrl": "https://lh3.googleusercontent.com/a-/AOh14Gh6TavuMr2kfWBZw6CxywTCOAeqSYEQsVvQB3qJyw=s64",
      "userId": "01887987037090030935"
     },
     "user_tz": 420
    },
    "id": "htNV5bnJ-8IL",
    "outputId": "15ca3227-267f-4a7e-fb75-1595d279b14e",
    "scrolled": false
   },
   "outputs": [
    {
     "name": "stdout",
     "output_type": "stream",
     "text": [
      "(Iteration 1 / 40) loss: 357.428290\n",
      "(Epoch 0 / 20) train acc: 0.220000; val_acc: 0.111000\n",
      "(Epoch 1 / 20) train acc: 0.380000; val_acc: 0.141000\n",
      "(Epoch 2 / 20) train acc: 0.520000; val_acc: 0.138000\n",
      "(Epoch 3 / 20) train acc: 0.740000; val_acc: 0.130000\n",
      "(Epoch 4 / 20) train acc: 0.820000; val_acc: 0.153000\n",
      "(Epoch 5 / 20) train acc: 0.860000; val_acc: 0.175000\n",
      "(Iteration 11 / 40) loss: 6.726589\n",
      "(Epoch 6 / 20) train acc: 0.940000; val_acc: 0.163000\n",
      "(Epoch 7 / 20) train acc: 0.960000; val_acc: 0.166000\n",
      "(Epoch 8 / 20) train acc: 0.960000; val_acc: 0.164000\n",
      "(Epoch 9 / 20) train acc: 0.980000; val_acc: 0.162000\n",
      "(Epoch 10 / 20) train acc: 0.980000; val_acc: 0.162000\n",
      "(Iteration 21 / 40) loss: 0.800243\n",
      "(Epoch 11 / 20) train acc: 1.000000; val_acc: 0.158000\n",
      "(Epoch 12 / 20) train acc: 1.000000; val_acc: 0.158000\n",
      "(Epoch 13 / 20) train acc: 1.000000; val_acc: 0.158000\n",
      "(Epoch 14 / 20) train acc: 1.000000; val_acc: 0.158000\n",
      "(Epoch 15 / 20) train acc: 1.000000; val_acc: 0.158000\n",
      "(Iteration 31 / 40) loss: 0.000000\n",
      "(Epoch 16 / 20) train acc: 1.000000; val_acc: 0.158000\n",
      "(Epoch 17 / 20) train acc: 1.000000; val_acc: 0.158000\n",
      "(Epoch 18 / 20) train acc: 1.000000; val_acc: 0.158000\n",
      "(Epoch 19 / 20) train acc: 1.000000; val_acc: 0.158000\n",
      "(Epoch 20 / 20) train acc: 1.000000; val_acc: 0.158000\n"
     ]
    },
    {
     "data": {
      "image/png": "[encoded data removed]",
      "text/plain": [
       "<Figure size 720x576 with 1 Axes>"
      ]
     },
     "metadata": {
      "needs_background": "light",
      "tags": []
     },
     "output_type": "display_data"
    }
   ],
   "source": [
    "# TODO: Use a three-layer Net to overfit 50 training examples by \n",
    "# tweaking just the learning rate and initialization scale.\n",
    "\n",
    "num_train = 50\n",
    "small_data = {\n",
    "  'X_train': data['X_train'][:num_train],\n",
    "  'y_train': data['y_train'][:num_train],\n",
    "  'X_val': data['X_val'],\n",
    "  'y_val': data['y_val'],\n",
    "}\n",
    "\n",
    "weight_scale = 1e-1   # Experiment with this!\n",
    "learning_rate = 1e-3  # Experiment with this!\n",
    "model = FullyConnectedNet([100, 100],\n",
    "              weight_scale=weight_scale, dtype=np.float64)\n",
    "solver = Solver(model, small_data,\n",
    "                print_every=10, num_epochs=20, batch_size=25,\n",
    "                update_rule='sgd',\n",
    "                optim_config={\n",
    "                  'learning_rate': learning_rate,\n",
    "                }\n",
    "         )\n",
    "solver.train()\n",
    "\n",
    "plt.plot(solver.loss_history, 'o')\n",
    "plt.title('Training loss history')\n",
    "plt.xlabel('Iteration')\n",
    "plt.ylabel('Training loss')\n",
    "plt.show()"
   ]
  },
  {
   "cell_type": "markdown",
   "metadata": {
    "colab_type": "text",
    "id": "ORD1-QOb-8IO"
   },
   "source": [
    "Now try to use a five-layer network with 100 units on each layer to overfit 50 training examples. Again, you will have to adjust the learning rate and weight initialization scale, but you should be able to achieve 100% training accuracy within 20 epochs."
   ]
  },
  {
   "cell_type": "code",
   "execution_count": 0,
   "metadata": {
    "colab": {},
    "colab_type": "code",
    "id": "GFhVh5S5p5kp"
   },
   "outputs": [],
   "source": [
    "# TODO: Use a five-layer Net to overfit 50 training examples by \n",
    "# tweaking just the learning rate and initialization scale.\n",
    "from contextlib import contextmanager,redirect_stderr,redirect_stdout\n",
    "from os import devnull\n",
    "\n",
    "@contextmanager\n",
    "def suppress_stdout_stderr():\n",
    "    \"\"\"A context manager that redirects stdout and stderr to devnull\"\"\"\n",
    "    with open(devnull, 'w') as fnull:\n",
    "        with redirect_stderr(fnull) as err, redirect_stdout(fnull) as out:\n",
    "            yield (err, out)\n",
    "\n",
    "def solve(learning_rate, weight_scale, epochs=5, quiet_outputs=True):\n",
    "    num_train = 50\n",
    "    small_data = {\n",
    "        'X_train': data['X_train'][:num_train],\n",
    "        'y_train': data['y_train'][:num_train],\n",
    "        'X_val': data['X_val'],\n",
    "        'y_val': data['y_val'],\n",
    "    }\n",
    "\n",
    "    model = FullyConnectedNet(\n",
    "        [100, 100, 100, 100],\n",
    "        weight_scale=weight_scale, \n",
    "        dtype=np.float64\n",
    "    )\n",
    "    \n",
    "    solver = Solver(\n",
    "        model, \n",
    "        small_data,\n",
    "        print_every=10, \n",
    "        num_epochs=epochs, \n",
    "        batch_size=25,\n",
    "        update_rule='sgd',\n",
    "        optim_config={'learning_rate': learning_rate}\n",
    "    )\n",
    "\n",
    "    if quiet_outputs:\n",
    "        with suppress_stdout_stderr():\n",
    "            solver.train()\n",
    "    else:\n",
    "        solver.train()\n",
    "\n",
    "    return solver"
   ]
  },
  {
   "cell_type": "code",
   "execution_count": 0,
   "metadata": {
    "colab": {
     "base_uri": "https://localhost:8080/",
     "height": 1000
    },
    "colab_type": "code",
    "executionInfo": {
     "elapsed": 23292,
     "status": "ok",
     "timestamp": 1586726380040,
     "user": {
      "displayName": "David Dobre",
      "photoUrl": "https://lh3.googleusercontent.com/a-/AOh14Gh6TavuMr2kfWBZw6CxywTCOAeqSYEQsVvQB3qJyw=s64",
      "userId": "01887987037090030935"
     },
     "user_tz": 420
    },
    "id": "4VT7a0T_qMuT",
    "outputId": "27b9af86-56a4-4818-f29a-2848abe584f6"
   },
   "outputs": [
    {
     "name": "stdout",
     "output_type": "stream",
     "text": [
      "Accuracy: 0.08, Learning rate: 0.1, Weight Scale: 0.1\n",
      "Accuracy: 0.08, Learning rate: 0.1, Weight Scale: 0.5\n",
      "Accuracy: 0.16, Learning rate: 0.1, Weight Scale: 0.01\n",
      "Accuracy: 0.16, Learning rate: 0.1, Weight Scale: 0.05\n",
      "Accuracy: 0.12, Learning rate: 0.1, Weight Scale: 0.001\n",
      "Accuracy: 0.12, Learning rate: 0.1, Weight Scale: 0.005\n",
      "Accuracy: 0.16, Learning rate: 0.1, Weight Scale: 0.0001\n",
      "Accuracy: 0.16, Learning rate: 0.1, Weight Scale: 0.0005\n",
      "Accuracy: 0.16, Learning rate: 0.1, Weight Scale: 1e-05\n",
      "Accuracy: 0.08, Learning rate: 0.5, Weight Scale: 0.1\n",
      "Accuracy: 0.08, Learning rate: 0.5, Weight Scale: 0.5\n",
      "Accuracy: 0.16, Learning rate: 0.5, Weight Scale: 0.01\n",
      "Accuracy: 0.08, Learning rate: 0.5, Weight Scale: 0.05\n",
      "Accuracy: 0.16, Learning rate: 0.5, Weight Scale: 0.001\n",
      "Accuracy: 0.16, Learning rate: 0.5, Weight Scale: 0.005\n",
      "Accuracy: 0.16, Learning rate: 0.5, Weight Scale: 0.0001\n",
      "Accuracy: 0.16, Learning rate: 0.5, Weight Scale: 0.0005\n",
      "Accuracy: 0.16, Learning rate: 0.5, Weight Scale: 1e-05\n",
      "Accuracy: 0.16, Learning rate: 0.01, Weight Scale: 0.1\n",
      "Accuracy: 0.08, Learning rate: 0.01, Weight Scale: 0.5\n",
      "Accuracy: 0.16, Learning rate: 0.01, Weight Scale: 0.01\n",
      "Accuracy: 0.52, Learning rate: 0.01, Weight Scale: 0.05\n",
      "Accuracy: 0.16, Learning rate: 0.01, Weight Scale: 0.001\n",
      "Accuracy: 0.1, Learning rate: 0.01, Weight Scale: 0.005\n",
      "Accuracy: 0.16, Learning rate: 0.01, Weight Scale: 0.0001\n",
      "Accuracy: 0.16, Learning rate: 0.01, Weight Scale: 0.0005\n",
      "Accuracy: 0.16, Learning rate: 0.01, Weight Scale: 1e-05\n",
      "Accuracy: 0.08, Learning rate: 0.05, Weight Scale: 0.1\n",
      "Accuracy: 0.08, Learning rate: 0.05, Weight Scale: 0.5\n",
      "Accuracy: 0.16, Learning rate: 0.05, Weight Scale: 0.01\n",
      "Accuracy: 0.1, Learning rate: 0.05, Weight Scale: 0.05\n",
      "Accuracy: 0.16, Learning rate: 0.05, Weight Scale: 0.001\n",
      "Accuracy: 0.16, Learning rate: 0.05, Weight Scale: 0.005\n",
      "Accuracy: 0.16, Learning rate: 0.05, Weight Scale: 0.0001\n",
      "Accuracy: 0.16, Learning rate: 0.05, Weight Scale: 0.0005\n",
      "Accuracy: 0.16, Learning rate: 0.05, Weight Scale: 1e-05\n",
      "Accuracy: 0.5, Learning rate: 0.001, Weight Scale: 0.1\n",
      "Accuracy: 0.08, Learning rate: 0.001, Weight Scale: 0.5\n",
      "Accuracy: 0.12, Learning rate: 0.001, Weight Scale: 0.01\n",
      "Accuracy: 0.4, Learning rate: 0.001, Weight Scale: 0.05\n",
      "Accuracy: 0.12, Learning rate: 0.001, Weight Scale: 0.001\n",
      "Accuracy: 0.16, Learning rate: 0.001, Weight Scale: 0.005\n",
      "Accuracy: 0.16, Learning rate: 0.001, Weight Scale: 0.0001\n",
      "Accuracy: 0.12, Learning rate: 0.001, Weight Scale: 0.0005\n",
      "Accuracy: 0.16, Learning rate: 0.001, Weight Scale: 1e-05\n",
      "Accuracy: 0.12, Learning rate: 0.005, Weight Scale: 0.1\n",
      "Accuracy: 0.08, Learning rate: 0.005, Weight Scale: 0.5\n",
      "Accuracy: 0.08, Learning rate: 0.005, Weight Scale: 0.01\n",
      "Accuracy: 0.64, Learning rate: 0.005, Weight Scale: 0.05\n",
      "Accuracy: 0.16, Learning rate: 0.005, Weight Scale: 0.001\n",
      "Accuracy: 0.16, Learning rate: 0.005, Weight Scale: 0.005\n",
      "Accuracy: 0.16, Learning rate: 0.005, Weight Scale: 0.0001\n",
      "Accuracy: 0.16, Learning rate: 0.005, Weight Scale: 0.0005\n",
      "Accuracy: 0.12, Learning rate: 0.005, Weight Scale: 1e-05\n",
      "Accuracy: 0.2, Learning rate: 0.0001, Weight Scale: 0.1\n",
      "Accuracy: 0.16, Learning rate: 0.0001, Weight Scale: 0.5\n",
      "Accuracy: 0.18, Learning rate: 0.0001, Weight Scale: 0.01\n",
      "Accuracy: 0.1, Learning rate: 0.0001, Weight Scale: 0.05\n",
      "Accuracy: 0.16, Learning rate: 0.0001, Weight Scale: 0.001\n",
      "Accuracy: 0.12, Learning rate: 0.0001, Weight Scale: 0.005\n",
      "Accuracy: 0.16, Learning rate: 0.0001, Weight Scale: 0.0001\n",
      "Accuracy: 0.16, Learning rate: 0.0001, Weight Scale: 0.0005\n",
      "Accuracy: 0.16, Learning rate: 0.0001, Weight Scale: 1e-05\n",
      "Accuracy: 0.38, Learning rate: 0.0005, Weight Scale: 0.1\n",
      "Accuracy: 0.06, Learning rate: 0.0005, Weight Scale: 0.5\n",
      "Accuracy: 0.08, Learning rate: 0.0005, Weight Scale: 0.01\n",
      "Accuracy: 0.24, Learning rate: 0.0005, Weight Scale: 0.05\n",
      "Accuracy: 0.16, Learning rate: 0.0005, Weight Scale: 0.001\n",
      "Accuracy: 0.16, Learning rate: 0.0005, Weight Scale: 0.005\n",
      "Accuracy: 0.16, Learning rate: 0.0005, Weight Scale: 0.0001\n",
      "Accuracy: 0.16, Learning rate: 0.0005, Weight Scale: 0.0005\n",
      "Accuracy: 0.16, Learning rate: 0.0005, Weight Scale: 1e-05\n",
      "Accuracy: 0.06, Learning rate: 1e-05, Weight Scale: 0.1\n",
      "Accuracy: 0.54, Learning rate: 1e-05, Weight Scale: 0.5\n",
      "Accuracy: 0.12, Learning rate: 1e-05, Weight Scale: 0.01\n",
      "Accuracy: 0.02, Learning rate: 1e-05, Weight Scale: 0.05\n",
      "Accuracy: 0.12, Learning rate: 1e-05, Weight Scale: 0.001\n",
      "Accuracy: 0.08, Learning rate: 1e-05, Weight Scale: 0.005\n",
      "Accuracy: 0.16, Learning rate: 1e-05, Weight Scale: 0.0001\n",
      "Accuracy: 0.14, Learning rate: 1e-05, Weight Scale: 0.0005\n",
      "Accuracy: 0.16, Learning rate: 1e-05, Weight Scale: 1e-05\n",
      "{'acc': 0.64, 'lr': 0.005, 'w': 0.05}\n"
     ]
    }
   ],
   "source": [
    "# Hyperparameter search\n",
    "lrs = [1e-1, 5e-1, 1e-2, 5e-2, 1e-3, 5e-3, 1e-4, 5e-4, 1e-5]\n",
    "weights = [1e-1, 5e-1, 1e-2, 5e-2, 1e-3, 5e-3, 1e-4, 5e-4, 1e-5]\n",
    "\n",
    "best = {'acc': 0, 'lr': None, 'w': None}\n",
    "results = []\n",
    "for lr in lrs:\n",
    "    for w in weights:\n",
    "        acc = solve(lr, w, epochs=3).train_acc_history[-1]\n",
    "        print(\"Accuracy: {}, Learning rate: {}, Weight Scale: {}\".format(acc, lr, w))\n",
    "        current = {'acc': acc, 'lr': lr, 'w': w}\n",
    "        results.append(current)\n",
    "        if acc > best['acc']:\n",
    "            best = current\n",
    "\n",
    "print(best)"
   ]
  },
  {
   "cell_type": "code",
   "execution_count": 0,
   "metadata": {
    "colab": {
     "base_uri": "https://localhost:8080/",
     "height": 985
    },
    "colab_type": "code",
    "executionInfo": {
     "elapsed": 1980,
     "status": "ok",
     "timestamp": 1586726388712,
     "user": {
      "displayName": "David Dobre",
      "photoUrl": "https://lh3.googleusercontent.com/a-/AOh14Gh6TavuMr2kfWBZw6CxywTCOAeqSYEQsVvQB3qJyw=s64",
      "userId": "01887987037090030935"
     },
     "user_tz": 420
    },
    "id": "MiIvoJxZ-8IP",
    "outputId": "cb0eb306-6848-44b6-9291-d73cda5e6502"
   },
   "outputs": [
    {
     "name": "stdout",
     "output_type": "stream",
     "text": [
      "{'acc': 0.64, 'lr': 0.005, 'w': 0.05}\n",
      "(Iteration 1 / 40) loss: 4.184374\n",
      "(Epoch 0 / 20) train acc: 0.180000; val_acc: 0.112000\n",
      "(Epoch 1 / 20) train acc: 0.160000; val_acc: 0.079000\n",
      "(Epoch 2 / 20) train acc: 0.320000; val_acc: 0.130000\n",
      "(Epoch 3 / 20) train acc: 0.480000; val_acc: 0.128000\n",
      "(Epoch 4 / 20) train acc: 0.660000; val_acc: 0.144000\n",
      "(Epoch 5 / 20) train acc: 0.860000; val_acc: 0.143000\n",
      "(Iteration 11 / 40) loss: 1.057394\n",
      "(Epoch 6 / 20) train acc: 0.920000; val_acc: 0.147000\n",
      "(Epoch 7 / 20) train acc: 0.880000; val_acc: 0.155000\n",
      "(Epoch 8 / 20) train acc: 0.960000; val_acc: 0.149000\n",
      "(Epoch 9 / 20) train acc: 0.920000; val_acc: 0.156000\n",
      "(Epoch 10 / 20) train acc: 0.980000; val_acc: 0.157000\n",
      "(Iteration 21 / 40) loss: 0.403812\n",
      "(Epoch 11 / 20) train acc: 1.000000; val_acc: 0.149000\n",
      "(Epoch 12 / 20) train acc: 1.000000; val_acc: 0.159000\n",
      "(Epoch 13 / 20) train acc: 1.000000; val_acc: 0.157000\n",
      "(Epoch 14 / 20) train acc: 1.000000; val_acc: 0.158000\n",
      "(Epoch 15 / 20) train acc: 1.000000; val_acc: 0.161000\n",
      "(Iteration 31 / 40) loss: 0.135632\n",
      "(Epoch 16 / 20) train acc: 1.000000; val_acc: 0.163000\n",
      "(Epoch 17 / 20) train acc: 1.000000; val_acc: 0.157000\n",
      "(Epoch 18 / 20) train acc: 1.000000; val_acc: 0.154000\n",
      "(Epoch 19 / 20) train acc: 1.000000; val_acc: 0.157000\n",
      "(Epoch 20 / 20) train acc: 1.000000; val_acc: 0.156000\n"
     ]
    },
    {
     "data": {
      "image/png": "[encoded data removed]",
      "text/plain": [
       "<Figure size 720x576 with 1 Axes>"
      ]
     },
     "metadata": {
      "needs_background": "light",
      "tags": []
     },
     "output_type": "display_data"
    }
   ],
   "source": [
    "# TODO: Use a five-layer Net to overfit 50 training examples by \n",
    "# tweaking just the learning rate and initialization scale.\n",
    "print(best)\n",
    "lr = 0.01\n",
    "w = 0.05\n",
    "solver = solve(lr, w, epochs=20, quiet_outputs=False)\n",
    "\n",
    "plt.plot(solver.loss_history, 'o')\n",
    "plt.title('Training loss history')\n",
    "plt.xlabel('Iteration')\n",
    "plt.ylabel('Training loss')\n",
    "plt.show()"
   ]
  },
  {
   "cell_type": "markdown",
   "metadata": {
    "colab_type": "text",
    "id": "cj6gfvqX-8IS",
    "tags": [
     "pdf-inline"
    ]
   },
   "source": [
    "## Inline Question 2: \n",
    "Did you notice anything about the comparative difficulty of training the three-layer net vs training the five layer net? In particular, based on your experience, which network seemed more sensitive to the initialization scale? Why do you think that is the case?\n",
    "\n",
    "## Answer:\n",
    "The five layer network was more tempermental \n"
   ]
  },
  {
   "cell_type": "markdown",
   "metadata": {
    "colab_type": "text",
    "id": "yNNdW-9Q-8IS"
   },
   "source": [
    "# Update rules\n",
    "So far we have used vanilla stochastic gradient descent (SGD) as our update rule. More sophisticated update rules can make it easier to train deep networks. We will implement a few of the most commonly used update rules and compare them to vanilla SGD."
   ]
  },
  {
   "cell_type": "markdown",
   "metadata": {
    "colab_type": "text",
    "id": "y9-lWw2W-8IT"
   },
   "source": [
    "# SGD+Momentum\n",
    "Stochastic gradient descent with momentum is a widely used update rule that tends to make deep networks converge faster than vanilla stochastic gradient descent. See the Momentum Update section at http://cs231n.github.io/neural-networks-3/#sgd for more information.\n",
    "\n",
    "Open the file `cs231n/optim.py` and read the documentation at the top of the file to make sure you understand the API. Implement the SGD+momentum update rule in the function `sgd_momentum` and run the following to check your implementation. You should see errors less than e-8."
   ]
  },
  {
   "cell_type": "code",
   "execution_count": 0,
   "metadata": {
    "colab": {
     "base_uri": "https://localhost:8080/",
     "height": 53
    },
    "colab_type": "code",
    "executionInfo": {
     "elapsed": 440,
     "status": "ok",
     "timestamp": 1586726413968,
     "user": {
      "displayName": "David Dobre",
      "photoUrl": "https://lh3.googleusercontent.com/a-/AOh14Gh6TavuMr2kfWBZw6CxywTCOAeqSYEQsVvQB3qJyw=s64",
      "userId": "01887987037090030935"
     },
     "user_tz": 420
    },
    "id": "vYXJTHL1-8IU",
    "outputId": "b758b76c-cacb-421f-c206-0d3194bfd664"
   },
   "outputs": [
    {
     "name": "stdout",
     "output_type": "stream",
     "text": [
      "next_w error:  8.882347033505819e-09\n",
      "velocity error:  4.269287743278663e-09\n"
     ]
    }
   ],
   "source": [
    "from cs231n.optim import sgd_momentum\n",
    "\n",
    "N, D = 4, 5\n",
    "w = np.linspace(-0.4, 0.6, num=N*D).reshape(N, D)\n",
    "dw = np.linspace(-0.6, 0.4, num=N*D).reshape(N, D)\n",
    "v = np.linspace(0.6, 0.9, num=N*D).reshape(N, D)\n",
    "\n",
    "config = {'learning_rate': 1e-3, 'velocity': v}\n",
    "next_w, _ = sgd_momentum(w, dw, config=config)\n",
    "\n",
    "expected_next_w = np.asarray([\n",
    "  [ 0.1406,      0.20738947,  0.27417895,  0.34096842,  0.40775789],\n",
    "  [ 0.47454737,  0.54133684,  0.60812632,  0.67491579,  0.74170526],\n",
    "  [ 0.80849474,  0.87528421,  0.94207368,  1.00886316,  1.07565263],\n",
    "  [ 1.14244211,  1.20923158,  1.27602105,  1.34281053,  1.4096    ]])\n",
    "expected_velocity = np.asarray([\n",
    "  [ 0.5406,      0.55475789,  0.56891579, 0.58307368,  0.59723158],\n",
    "  [ 0.61138947,  0.62554737,  0.63970526,  0.65386316,  0.66802105],\n",
    "  [ 0.68217895,  0.69633684,  0.71049474,  0.72465263,  0.73881053],\n",
    "  [ 0.75296842,  0.76712632,  0.78128421,  0.79544211,  0.8096    ]])\n",
    "\n",
    "# Should see relative errors around e-8 or less\n",
    "print('next_w error: ', rel_error(next_w, expected_next_w))\n",
    "print('velocity error: ', rel_error(expected_velocity, config['velocity']))"
   ]
  },
  {
   "cell_type": "markdown",
   "metadata": {
    "colab_type": "text",
    "id": "DEvgkXWQ-8IX"
   },
   "source": [
    "Once you have done so, run the following to train a six-layer network with both SGD and SGD+momentum. You should see the SGD+momentum update rule converge faster."
   ]
  },
  {
   "cell_type": "code",
   "execution_count": 0,
   "metadata": {
    "colab": {
     "base_uri": "https://localhost:8080/",
     "height": 1000
    },
    "colab_type": "code",
    "executionInfo": {
     "elapsed": 7772,
     "status": "ok",
     "timestamp": 1586726424509,
     "user": {
      "displayName": "David Dobre",
      "photoUrl": "https://lh3.googleusercontent.com/a-/AOh14Gh6TavuMr2kfWBZw6CxywTCOAeqSYEQsVvQB3qJyw=s64",
      "userId": "01887987037090030935"
     },
     "user_tz": 420
    },
    "id": "_O19PcBa-8IY",
    "outputId": "14aa2050-0055-4630-d526-b79f0620c713",
    "scrolled": false
   },
   "outputs": [
    {
     "name": "stdout",
     "output_type": "stream",
     "text": [
      "running with  sgd\n",
      "(Iteration 1 / 200) loss: 2.757790\n",
      "(Epoch 0 / 5) train acc: 0.081000; val_acc: 0.085000\n",
      "(Iteration 11 / 200) loss: 2.219810\n",
      "(Iteration 21 / 200) loss: 2.208727\n",
      "(Iteration 31 / 200) loss: 2.205068\n",
      "(Epoch 1 / 5) train acc: 0.237000; val_acc: 0.211000\n",
      "(Iteration 41 / 200) loss: 2.112090\n",
      "(Iteration 51 / 200) loss: 2.121464\n",
      "(Iteration 61 / 200) loss: 2.090958\n",
      "(Iteration 71 / 200) loss: 1.911614\n",
      "(Epoch 2 / 5) train acc: 0.289000; val_acc: 0.237000\n",
      "(Iteration 81 / 200) loss: 1.986332\n",
      "(Iteration 91 / 200) loss: 2.012879\n",
      "(Iteration 101 / 200) loss: 1.873892\n",
      "(Iteration 111 / 200) loss: 1.834703\n",
      "(Epoch 3 / 5) train acc: 0.299000; val_acc: 0.270000\n",
      "(Iteration 121 / 200) loss: 1.983976\n",
      "(Iteration 131 / 200) loss: 1.840371\n",
      "(Iteration 141 / 200) loss: 1.865255\n",
      "(Iteration 151 / 200) loss: 1.878269\n",
      "(Epoch 4 / 5) train acc: 0.358000; val_acc: 0.311000\n",
      "(Iteration 161 / 200) loss: 1.767765\n",
      "(Iteration 171 / 200) loss: 1.718125\n",
      "(Iteration 181 / 200) loss: 1.816763\n",
      "(Iteration 191 / 200) loss: 1.609972\n",
      "(Epoch 5 / 5) train acc: 0.348000; val_acc: 0.306000\n",
      "\n",
      "running with  sgd_momentum\n",
      "(Iteration 1 / 200) loss: 2.629590\n",
      "(Epoch 0 / 5) train acc: 0.073000; val_acc: 0.083000\n",
      "(Iteration 11 / 200) loss: 2.242595\n",
      "(Iteration 21 / 200) loss: 2.081288\n",
      "(Iteration 31 / 200) loss: 1.919941\n",
      "(Epoch 1 / 5) train acc: 0.316000; val_acc: 0.297000\n",
      "(Iteration 41 / 200) loss: 1.926152\n",
      "(Iteration 51 / 200) loss: 2.013634\n",
      "(Iteration 61 / 200) loss: 1.716850\n",
      "(Iteration 71 / 200) loss: 1.737760\n",
      "(Epoch 2 / 5) train acc: 0.390000; val_acc: 0.326000\n",
      "(Iteration 81 / 200) loss: 1.764080\n",
      "(Iteration 91 / 200) loss: 1.712363\n",
      "(Iteration 101 / 200) loss: 1.808198\n",
      "(Iteration 111 / 200) loss: 1.578916\n",
      "(Epoch 3 / 5) train acc: 0.404000; val_acc: 0.337000\n",
      "(Iteration 121 / 200) loss: 1.664404\n",
      "(Iteration 131 / 200) loss: 1.574782\n",
      "(Iteration 141 / 200) loss: 1.490501\n",
      "(Iteration 151 / 200) loss: 1.454468\n",
      "(Epoch 4 / 5) train acc: 0.522000; val_acc: 0.341000\n",
      "(Iteration 161 / 200) loss: 1.369134\n",
      "(Iteration 171 / 200) loss: 1.421781\n",
      "(Iteration 181 / 200) loss: 1.262743\n",
      "(Iteration 191 / 200) loss: 1.631909\n",
      "(Epoch 5 / 5) train acc: 0.548000; val_acc: 0.359000\n",
      "\n"
     ]
    },
    {
     "name": "stderr",
     "output_type": "stream",
     "text": [
      "/usr/local/lib/python3.6/dist-packages/ipykernel_launcher.py:39: MatplotlibDeprecationWarning: Adding an axes using the same arguments as a previous axes currently reuses the earlier instance.  In a future version, a new instance will always be created and returned.  Meanwhile, this warning can be suppressed, and the future behavior ensured, by passing a unique label to each axes instance.\n",
      "/usr/local/lib/python3.6/dist-packages/ipykernel_launcher.py:42: MatplotlibDeprecationWarning: Adding an axes using the same arguments as a previous axes currently reuses the earlier instance.  In a future version, a new instance will always be created and returned.  Meanwhile, this warning can be suppressed, and the future behavior ensured, by passing a unique label to each axes instance.\n",
      "/usr/local/lib/python3.6/dist-packages/ipykernel_launcher.py:45: MatplotlibDeprecationWarning: Adding an axes using the same arguments as a previous axes currently reuses the earlier instance.  In a future version, a new instance will always be created and returned.  Meanwhile, this warning can be suppressed, and the future behavior ensured, by passing a unique label to each axes instance.\n",
      "/usr/local/lib/python3.6/dist-packages/ipykernel_launcher.py:49: MatplotlibDeprecationWarning: Adding an axes using the same arguments as a previous axes currently reuses the earlier instance.  In a future version, a new instance will always be created and returned.  Meanwhile, this warning can be suppressed, and the future behavior ensured, by passing a unique label to each axes instance.\n"
     ]
    },
    {
     "data": {
      "image/png": "[encoded data removed]",
      "text/plain": [
       "<Figure size 1080x1080 with 3 Axes>"
      ]
     },
     "metadata": {
      "needs_background": "light",
      "tags": []
     },
     "output_type": "display_data"
    }
   ],
   "source": [
    "num_train = 4000\n",
    "small_data = {\n",
    "  'X_train': data['X_train'][:num_train],\n",
    "  'y_train': data['y_train'][:num_train],\n",
    "  'X_val': data['X_val'],\n",
    "  'y_val': data['y_val'],\n",
    "}\n",
    "\n",
    "solvers = {}\n",
    "\n",
    "for update_rule in ['sgd', 'sgd_momentum']:\n",
    "  print('running with ', update_rule)\n",
    "  model = FullyConnectedNet([100, 100, 100, 100, 100], weight_scale=5e-2)\n",
    "\n",
    "  solver = Solver(model, small_data,\n",
    "                  num_epochs=5, batch_size=100,\n",
    "                  update_rule=update_rule,\n",
    "                  optim_config={\n",
    "                    'learning_rate': 5e-3,\n",
    "                  },\n",
    "                  verbose=True)\n",
    "  solvers[update_rule] = solver\n",
    "  solver.train()\n",
    "  print()\n",
    "\n",
    "plt.subplot(3, 1, 1)\n",
    "plt.title('Training loss')\n",
    "plt.xlabel('Iteration')\n",
    "\n",
    "plt.subplot(3, 1, 2)\n",
    "plt.title('Training accuracy')\n",
    "plt.xlabel('Epoch')\n",
    "\n",
    "plt.subplot(3, 1, 3)\n",
    "plt.title('Validation accuracy')\n",
    "plt.xlabel('Epoch')\n",
    "\n",
    "for update_rule, solver in solvers.items():\n",
    "  plt.subplot(3, 1, 1)\n",
    "  plt.plot(solver.loss_history, 'o', label=\"loss_%s\" % update_rule)\n",
    "  \n",
    "  plt.subplot(3, 1, 2)\n",
    "  plt.plot(solver.train_acc_history, '-o', label=\"train_acc_%s\" % update_rule)\n",
    "\n",
    "  plt.subplot(3, 1, 3)\n",
    "  plt.plot(solver.val_acc_history, '-o', label=\"val_acc_%s\" % update_rule)\n",
    "  \n",
    "for i in [1, 2, 3]:\n",
    "  plt.subplot(3, 1, i)\n",
    "  plt.legend(loc='upper center', ncol=4)\n",
    "plt.gcf().set_size_inches(15, 15)\n",
    "plt.show()"
   ]
  },
  {
   "cell_type": "markdown",
   "metadata": {
    "colab_type": "text",
    "id": "pgWKFB-m-8Ib"
   },
   "source": [
    "# RMSProp and Adam\n",
    "RMSProp [1] and Adam [2] are update rules that set per-parameter learning rates by using a running average of the second moments of gradients.\n",
    "\n",
    "In the file `cs231n/optim.py`, implement the RMSProp update rule in the `rmsprop` function and implement the Adam update rule in the `adam` function, and check your implementations using the tests below.\n",
    "\n",
    "**NOTE:** Please implement the _complete_ Adam update rule (with the bias correction mechanism), not the first simplified version mentioned in the course notes. \n",
    "\n",
    "[1] Tijmen Tieleman and Geoffrey Hinton. \"Lecture 6.5-rmsprop: Divide the gradient by a running average of its recent magnitude.\" COURSERA: Neural Networks for Machine Learning 4 (2012).\n",
    "\n",
    "[2] Diederik Kingma and Jimmy Ba, \"Adam: A Method for Stochastic Optimization\", ICLR 2015."
   ]
  },
  {
   "cell_type": "code",
   "execution_count": 0,
   "metadata": {
    "colab": {
     "base_uri": "https://localhost:8080/",
     "height": 53
    },
    "colab_type": "code",
    "executionInfo": {
     "elapsed": 443,
     "status": "ok",
     "timestamp": 1586727455268,
     "user": {
      "displayName": "David Dobre",
      "photoUrl": "https://lh3.googleusercontent.com/a-/AOh14Gh6TavuMr2kfWBZw6CxywTCOAeqSYEQsVvQB3qJyw=s64",
      "userId": "01887987037090030935"
     },
     "user_tz": 420
    },
    "id": "GSbRo_bD-8Ib",
    "outputId": "372506a3-4bbb-4ac1-82a1-b917a9d275c3"
   },
   "outputs": [
    {
     "name": "stdout",
     "output_type": "stream",
     "text": [
      "next_w error:  9.524687511038133e-08\n",
      "cache error:  2.6477955807156126e-09\n"
     ]
    }
   ],
   "source": [
    "# Test RMSProp implementation\n",
    "from cs231n.optim import rmsprop\n",
    "\n",
    "N, D = 4, 5\n",
    "w = np.linspace(-0.4, 0.6, num=N*D).reshape(N, D)\n",
    "dw = np.linspace(-0.6, 0.4, num=N*D).reshape(N, D)\n",
    "cache = np.linspace(0.6, 0.9, num=N*D).reshape(N, D)\n",
    "\n",
    "config = {'learning_rate': 1e-2, 'cache': cache}\n",
    "next_w, _ = rmsprop(w, dw, config=config)\n",
    "\n",
    "expected_next_w = np.asarray([\n",
    "  [-0.39223849, -0.34037513, -0.28849239, -0.23659121, -0.18467247],\n",
    "  [-0.132737,   -0.08078555, -0.02881884,  0.02316247,  0.07515774],\n",
    "  [ 0.12716641,  0.17918792,  0.23122175,  0.28326742,  0.33532447],\n",
    "  [ 0.38739248,  0.43947102,  0.49155973,  0.54365823,  0.59576619]])\n",
    "expected_cache = np.asarray([\n",
    "  [ 0.5976,      0.6126277,   0.6277108,   0.64284931,  0.65804321],\n",
    "  [ 0.67329252,  0.68859723,  0.70395734,  0.71937285,  0.73484377],\n",
    "  [ 0.75037008,  0.7659518,   0.78158892,  0.79728144,  0.81302936],\n",
    "  [ 0.82883269,  0.84469141,  0.86060554,  0.87657507,  0.8926    ]])\n",
    "\n",
    "# You should see relative errors around e-7 or less\n",
    "print('next_w error: ', rel_error(expected_next_w, next_w))\n",
    "print('cache error: ', rel_error(expected_cache, config['cache']))"
   ]
  },
  {
   "cell_type": "code",
   "execution_count": 0,
   "metadata": {
    "colab": {
     "base_uri": "https://localhost:8080/",
     "height": 72
    },
    "colab_type": "code",
    "executionInfo": {
     "elapsed": 384,
     "status": "ok",
     "timestamp": 1586730290175,
     "user": {
      "displayName": "David Dobre",
      "photoUrl": "https://lh3.googleusercontent.com/a-/AOh14Gh6TavuMr2kfWBZw6CxywTCOAeqSYEQsVvQB3qJyw=s64",
      "userId": "01887987037090030935"
     },
     "user_tz": 420
    },
    "id": "dqz46ljj-8Ie",
    "outputId": "34eeaf85-452a-44a2-e07b-e91ed14964b9"
   },
   "outputs": [
    {
     "name": "stdout",
     "output_type": "stream",
     "text": [
      "next_w error:  1.1395691798535431e-07\n",
      "v error:  4.208314038113071e-09\n",
      "m error:  4.214963193114416e-09\n"
     ]
    }
   ],
   "source": [
    "# Test Adam implementation\n",
    "from cs231n.optim import adam\n",
    "\n",
    "N, D = 4, 5\n",
    "w = np.linspace(-0.4, 0.6, num=N*D).reshape(N, D)\n",
    "dw = np.linspace(-0.6, 0.4, num=N*D).reshape(N, D)\n",
    "m = np.linspace(0.6, 0.9, num=N*D).reshape(N, D)\n",
    "v = np.linspace(0.7, 0.5, num=N*D).reshape(N, D)\n",
    "\n",
    "config = {'learning_rate': 1e-2, 'm': m, 'v': v, 't': 5}\n",
    "next_w, _ = adam(w, dw, config=config)\n",
    "\n",
    "expected_next_w = np.asarray([\n",
    "  [-0.40094747, -0.34836187, -0.29577703, -0.24319299, -0.19060977],\n",
    "  [-0.1380274,  -0.08544591, -0.03286534,  0.01971428,  0.0722929],\n",
    "  [ 0.1248705,   0.17744702,  0.23002243,  0.28259667,  0.33516969],\n",
    "  [ 0.38774145,  0.44031188,  0.49288093,  0.54544852,  0.59801459]])\n",
    "expected_v = np.asarray([\n",
    "  [ 0.69966,     0.68908382,  0.67851319,  0.66794809,  0.65738853,],\n",
    "  [ 0.64683452,  0.63628604,  0.6257431,   0.61520571,  0.60467385,],\n",
    "  [ 0.59414753,  0.58362676,  0.57311152,  0.56260183,  0.55209767,],\n",
    "  [ 0.54159906,  0.53110598,  0.52061845,  0.51013645,  0.49966,   ]])\n",
    "expected_m = np.asarray([\n",
    "  [ 0.48,        0.49947368,  0.51894737,  0.53842105,  0.55789474],\n",
    "  [ 0.57736842,  0.59684211,  0.61631579,  0.63578947,  0.65526316],\n",
    "  [ 0.67473684,  0.69421053,  0.71368421,  0.73315789,  0.75263158],\n",
    "  [ 0.77210526,  0.79157895,  0.81105263,  0.83052632,  0.85      ]])\n",
    "\n",
    "# You should see relative errors around e-7 or less\n",
    "print('next_w error: ', rel_error(expected_next_w, next_w))\n",
    "print('v error: ', rel_error(expected_v, config['v']))\n",
    "print('m error: ', rel_error(expected_m, config['m']))"
   ]
  },
  {
   "cell_type": "markdown",
   "metadata": {
    "colab_type": "text",
    "id": "3cLw1Yda-8Ij"
   },
   "source": [
    "Once you have debugged your RMSProp and Adam implementations, run the following to train a pair of deep networks using these new update rules:"
   ]
  },
  {
   "cell_type": "code",
   "execution_count": 0,
   "metadata": {
    "colab": {
     "base_uri": "https://localhost:8080/",
     "height": 1000
    },
    "colab_type": "code",
    "executionInfo": {
     "elapsed": 7889,
     "status": "ok",
     "timestamp": 1586730825621,
     "user": {
      "displayName": "David Dobre",
      "photoUrl": "https://lh3.googleusercontent.com/a-/AOh14Gh6TavuMr2kfWBZw6CxywTCOAeqSYEQsVvQB3qJyw=s64",
      "userId": "01887987037090030935"
     },
     "user_tz": 420
    },
    "id": "o6P6ba_T-8Ik",
    "outputId": "a34ede42-ba75-49df-d976-a3acdff09205"
   },
   "outputs": [
    {
     "name": "stdout",
     "output_type": "stream",
     "text": [
      "running with  adam\n",
      "(Iteration 1 / 200) loss: 2.781476\n",
      "(Epoch 0 / 5) train acc: 0.105000; val_acc: 0.120000\n",
      "(Iteration 11 / 200) loss: 2.125381\n",
      "(Iteration 21 / 200) loss: 1.806725\n",
      "(Iteration 31 / 200) loss: 1.957195\n",
      "(Epoch 1 / 5) train acc: 0.363000; val_acc: 0.315000\n",
      "(Iteration 41 / 200) loss: 1.878826\n",
      "(Iteration 51 / 200) loss: 1.844300\n",
      "(Iteration 61 / 200) loss: 1.737399\n",
      "(Iteration 71 / 200) loss: 1.615721\n",
      "(Epoch 2 / 5) train acc: 0.447000; val_acc: 0.353000\n",
      "(Iteration 81 / 200) loss: 1.498542\n",
      "(Iteration 91 / 200) loss: 1.494064\n",
      "(Iteration 101 / 200) loss: 1.410890\n",
      "(Iteration 111 / 200) loss: 1.575155\n",
      "(Epoch 3 / 5) train acc: 0.500000; val_acc: 0.372000\n",
      "(Iteration 121 / 200) loss: 1.467590\n",
      "(Iteration 131 / 200) loss: 1.420258\n",
      "(Iteration 141 / 200) loss: 1.547643\n",
      "(Iteration 151 / 200) loss: 1.326533\n",
      "(Epoch 4 / 5) train acc: 0.511000; val_acc: 0.385000\n",
      "(Iteration 161 / 200) loss: 1.416155\n",
      "(Iteration 171 / 200) loss: 1.425714\n",
      "(Iteration 181 / 200) loss: 1.507072\n",
      "(Iteration 191 / 200) loss: 1.015788\n",
      "(Epoch 5 / 5) train acc: 0.595000; val_acc: 0.399000\n",
      "\n",
      "running with  rmsprop\n",
      "(Iteration 1 / 200) loss: 2.576442\n",
      "(Epoch 0 / 5) train acc: 0.160000; val_acc: 0.163000\n",
      "(Iteration 11 / 200) loss: 2.172858\n",
      "(Iteration 21 / 200) loss: 2.082280\n",
      "(Iteration 31 / 200) loss: 1.835457\n",
      "(Epoch 1 / 5) train acc: 0.373000; val_acc: 0.312000\n",
      "(Iteration 41 / 200) loss: 1.856877\n",
      "(Iteration 51 / 200) loss: 1.789817\n",
      "(Iteration 61 / 200) loss: 1.579071\n",
      "(Iteration 71 / 200) loss: 1.718523\n",
      "(Epoch 2 / 5) train acc: 0.386000; val_acc: 0.327000\n",
      "(Iteration 81 / 200) loss: 1.785348\n",
      "(Iteration 91 / 200) loss: 1.542105\n",
      "(Iteration 101 / 200) loss: 1.511237\n",
      "(Iteration 111 / 200) loss: 1.575033\n",
      "(Epoch 3 / 5) train acc: 0.477000; val_acc: 0.344000\n",
      "(Iteration 121 / 200) loss: 1.396269\n",
      "(Iteration 131 / 200) loss: 1.488360\n",
      "(Iteration 141 / 200) loss: 1.402830\n",
      "(Iteration 151 / 200) loss: 1.450469\n",
      "(Epoch 4 / 5) train acc: 0.508000; val_acc: 0.357000\n",
      "(Iteration 161 / 200) loss: 1.419863\n",
      "(Iteration 171 / 200) loss: 1.289242\n",
      "(Iteration 181 / 200) loss: 1.579414\n",
      "(Iteration 191 / 200) loss: 1.484769\n",
      "(Epoch 5 / 5) train acc: 0.548000; val_acc: 0.355000\n",
      "\n"
     ]
    },
    {
     "name": "stderr",
     "output_type": "stream",
     "text": [
      "/usr/local/lib/python3.6/dist-packages/ipykernel_launcher.py:30: MatplotlibDeprecationWarning: Adding an axes using the same arguments as a previous axes currently reuses the earlier instance.  In a future version, a new instance will always be created and returned.  Meanwhile, this warning can be suppressed, and the future behavior ensured, by passing a unique label to each axes instance.\n",
      "/usr/local/lib/python3.6/dist-packages/ipykernel_launcher.py:33: MatplotlibDeprecationWarning: Adding an axes using the same arguments as a previous axes currently reuses the earlier instance.  In a future version, a new instance will always be created and returned.  Meanwhile, this warning can be suppressed, and the future behavior ensured, by passing a unique label to each axes instance.\n",
      "/usr/local/lib/python3.6/dist-packages/ipykernel_launcher.py:36: MatplotlibDeprecationWarning: Adding an axes using the same arguments as a previous axes currently reuses the earlier instance.  In a future version, a new instance will always be created and returned.  Meanwhile, this warning can be suppressed, and the future behavior ensured, by passing a unique label to each axes instance.\n",
      "/usr/local/lib/python3.6/dist-packages/ipykernel_launcher.py:40: MatplotlibDeprecationWarning: Adding an axes using the same arguments as a previous axes currently reuses the earlier instance.  In a future version, a new instance will always be created and returned.  Meanwhile, this warning can be suppressed, and the future behavior ensured, by passing a unique label to each axes instance.\n"
     ]
    },
    {
     "data": {
      "image/png": "[encoded data removed]",
      "text/plain": [
       "<Figure size 1080x1080 with 3 Axes>"
      ]
     },
     "metadata": {
      "needs_background": "light",
      "tags": []
     },
     "output_type": "display_data"
    }
   ],
   "source": [
    "learning_rates = {'rmsprop': 1e-4, 'adam': 1e-3}\n",
    "for update_rule in ['adam', 'rmsprop']:\n",
    "  print('running with ', update_rule)\n",
    "  model = FullyConnectedNet([100, 100, 100, 100, 100], weight_scale=5e-2)\n",
    "\n",
    "  solver = Solver(model, small_data,\n",
    "                  num_epochs=5, batch_size=100,\n",
    "                  update_rule=update_rule,\n",
    "                  optim_config={\n",
    "                    'learning_rate': learning_rates[update_rule]\n",
    "                  },\n",
    "                  verbose=True)\n",
    "  solvers[update_rule] = solver\n",
    "  solver.train()\n",
    "  print()\n",
    "\n",
    "plt.subplot(3, 1, 1)\n",
    "plt.title('Training loss')\n",
    "plt.xlabel('Iteration')\n",
    "\n",
    "plt.subplot(3, 1, 2)\n",
    "plt.title('Training accuracy')\n",
    "plt.xlabel('Epoch')\n",
    "\n",
    "plt.subplot(3, 1, 3)\n",
    "plt.title('Validation accuracy')\n",
    "plt.xlabel('Epoch')\n",
    "\n",
    "for update_rule, solver in list(solvers.items()):\n",
    "  plt.subplot(3, 1, 1)\n",
    "  plt.plot(solver.loss_history, 'o', label=update_rule)\n",
    "  \n",
    "  plt.subplot(3, 1, 2)\n",
    "  plt.plot(solver.train_acc_history, '-o', label=update_rule)\n",
    "\n",
    "  plt.subplot(3, 1, 3)\n",
    "  plt.plot(solver.val_acc_history, '-o', label=update_rule)\n",
    "  \n",
    "for i in [1, 2, 3]:\n",
    "  plt.subplot(3, 1, i)\n",
    "  plt.legend(loc='upper center', ncol=4)\n",
    "plt.gcf().set_size_inches(15, 15)\n",
    "plt.show()"
   ]
  },
  {
   "cell_type": "markdown",
   "metadata": {
    "colab_type": "text",
    "id": "g2OJjC9V-8Io",
    "tags": [
     "pdf-inline"
    ]
   },
   "source": [
    "## Inline Question 3:\n",
    "\n",
    "AdaGrad, like Adam, is a per-parameter optimization method that uses the following update rule:\n",
    "\n",
    "```\n",
    "cache += dw**2\n",
    "w += - learning_rate * dw / (np.sqrt(cache) + eps)\n",
    "```\n",
    "\n",
    "John notices that when he was training a network with AdaGrad that the updates became very small, and that his network was learning slowly. Using your knowledge of the AdaGrad update rule, why do you think the updates would become very small? Would Adam have the same issue?\n",
    "\n",
    "\n",
    "## Answer: \n",
    "As time progresses, the cache continues to accumulate the gradients. This means that the cache grows without any bound, and the update will be divided by an increasingly large number, eventually slowing down the updates to an infinitesimally small amount per train step."
   ]
  },
  {
   "cell_type": "markdown",
   "metadata": {
    "colab_type": "text",
    "id": "8Eq71JRv-8Ip"
   },
   "source": [
    "# Train a good model!\n",
    "Train the best fully-connected model that you can on CIFAR-10, storing your best model in the `best_model` variable. We require you to get at least 50% accuracy on the validation set using a fully-connected net.\n",
    "\n",
    "If you are careful it should be possible to get accuracies above 55%, but we don't require it for this part and won't assign extra credit for doing so. Later in the assignment we will ask you to train the best convolutional network that you can on CIFAR-10, and we would prefer that you spend your effort working on convolutional nets rather than fully-connected nets.\n",
    "\n",
    "You might find it useful to complete the `BatchNormalization.ipynb` and `Dropout.ipynb` notebooks before completing this part, since those techniques can help you train powerful models."
   ]
  },
  {
   "cell_type": "code",
   "execution_count": 0,
   "metadata": {
    "colab": {},
    "colab_type": "code",
    "id": "k0roolbo-8Ip",
    "scrolled": false
   },
   "outputs": [],
   "source": [
    "best_model = None\n",
    "################################################################################\n",
    "# TODO: Train the best FullyConnectedNet that you can on CIFAR-10. You might   #\n",
    "# find batch/layer normalization and dropout useful. Store your best model in  #\n",
    "# the best_model variable.                                                     #\n",
    "################################################################################\n",
    "# *****START OF YOUR CODE (DO NOT DELETE/MODIFY THIS LINE)*****\n",
    "\n",
    "# TODO: Use a five-layer Net to overfit 50 training examples by \n",
    "# tweaking just the learning rate and initialization scale.\n",
    "from contextlib import contextmanager,redirect_stderr,redirect_stdout\n",
    "from os import devnull\n",
    "\n",
    "@contextmanager\n",
    "def suppress_stdout_stderr():\n",
    "    \"\"\"A context manager that redirects stdout and stderr to devnull\"\"\"\n",
    "    with open(devnull, 'w') as fnull:\n",
    "        with redirect_stderr(fnull) as err, redirect_stdout(fnull) as out:\n",
    "            yield (err, out)\n",
    "\n",
    "def solve(model, learning_rate, epochs=3, full_dataset=False, quiet_outputs=True, print_every=10):\n",
    "    num_train = 50\n",
    "\n",
    "    if full_dataset:\n",
    "        dataset = {\n",
    "            'X_train': data['X_train'],\n",
    "            'y_train': data['y_train'],\n",
    "            'X_val': data['X_val'],\n",
    "            'y_val': data['y_val'],\n",
    "        }\n",
    "    else:\n",
    "        dataset = {\n",
    "            'X_train': data['X_train'][:num_train],\n",
    "            'y_train': data['y_train'][:num_train],\n",
    "            'X_val': data['X_val'],\n",
    "            'y_val': data['y_val'],\n",
    "        }\n",
    "\n",
    "    \n",
    "    solver = Solver(\n",
    "        model, \n",
    "        dataset,\n",
    "        print_every=print_every, \n",
    "        num_epochs=epochs, \n",
    "        batch_size=25,\n",
    "        update_rule='adam',\n",
    "        optim_config={'learning_rate': learning_rate}\n",
    "    )\n",
    "\n",
    "    if quiet_outputs:\n",
    "        with suppress_stdout_stderr():\n",
    "            solver.train()\n",
    "    else:\n",
    "        solver.train()\n",
    "\n",
    "    return solver\n",
    "\n",
    "\n",
    "# *****END OF YOUR CODE (DO NOT DELETE/MODIFY THIS LINE)*****\n",
    "################################################################################\n",
    "#                              END OF YOUR CODE                                #\n",
    "################################################################################"
   ]
  },
  {
   "cell_type": "code",
   "execution_count": 0,
   "metadata": {
    "colab": {
     "base_uri": "https://localhost:8080/",
     "height": 1000
    },
    "colab_type": "code",
    "executionInfo": {
     "elapsed": 39177,
     "status": "ok",
     "timestamp": 1586732602124,
     "user": {
      "displayName": "David Dobre",
      "photoUrl": "https://lh3.googleusercontent.com/a-/AOh14Gh6TavuMr2kfWBZw6CxywTCOAeqSYEQsVvQB3qJyw=s64",
      "userId": "01887987037090030935"
     },
     "user_tz": 420
    },
    "id": "iVYRE3RimHXZ",
    "outputId": "f65d2fd0-cc46-4852-c54f-37a7e6ed8285"
   },
   "outputs": [
    {
     "name": "stdout",
     "output_type": "stream",
     "text": [
      "Accuracy: 0.1, Learning rate: 0.1, Weight Scale: 0.1, Layers: [100, 100, 100, 100]\n",
      "Accuracy: 0.1, Learning rate: 0.1, Weight Scale: 0.5, Layers: [100, 100, 100, 100]\n",
      "Accuracy: 0.2, Learning rate: 0.1, Weight Scale: 0.01, Layers: [100, 100, 100, 100]\n",
      "Accuracy: 0.14, Learning rate: 0.1, Weight Scale: 0.05, Layers: [100, 100, 100, 100]\n",
      "Accuracy: 0.08, Learning rate: 0.1, Weight Scale: 0.001, Layers: [100, 100, 100, 100]\n",
      "Accuracy: 0.1, Learning rate: 0.1, Weight Scale: 0.005, Layers: [100, 100, 100, 100]\n",
      "Accuracy: 0.12, Learning rate: 0.1, Weight Scale: 0.0001, Layers: [100, 100, 100, 100]\n",
      "Accuracy: 0.12, Learning rate: 0.1, Weight Scale: 0.0005, Layers: [100, 100, 100, 100]\n",
      "Accuracy: 0.1, Learning rate: 0.1, Weight Scale: 1e-05, Layers: [100, 100, 100, 100]\n",
      "Accuracy: 0.14, Learning rate: 0.5, Weight Scale: 0.1, Layers: [100, 100, 100, 100]\n",
      "Accuracy: 0.08, Learning rate: 0.5, Weight Scale: 0.5, Layers: [100, 100, 100, 100]\n",
      "Accuracy: 0.2, Learning rate: 0.5, Weight Scale: 0.01, Layers: [100, 100, 100, 100]\n",
      "Accuracy: 0.16, Learning rate: 0.5, Weight Scale: 0.05, Layers: [100, 100, 100, 100]\n",
      "Accuracy: 0.12, Learning rate: 0.5, Weight Scale: 0.001, Layers: [100, 100, 100, 100]\n",
      "Accuracy: 0.06, Learning rate: 0.5, Weight Scale: 0.005, Layers: [100, 100, 100, 100]\n",
      "Accuracy: 0.16, Learning rate: 0.5, Weight Scale: 0.0001, Layers: [100, 100, 100, 100]\n",
      "Accuracy: 0.1, Learning rate: 0.5, Weight Scale: 0.0005, Layers: [100, 100, 100, 100]\n",
      "Accuracy: 0.16, Learning rate: 0.5, Weight Scale: 1e-05, Layers: [100, 100, 100, 100]\n",
      "Accuracy: 0.28, Learning rate: 0.01, Weight Scale: 0.1, Layers: [100, 100, 100, 100]\n",
      "Accuracy: 0.5, Learning rate: 0.01, Weight Scale: 0.5, Layers: [100, 100, 100, 100]\n",
      "Accuracy: 0.4, Learning rate: 0.01, Weight Scale: 0.01, Layers: [100, 100, 100, 100]\n",
      "Accuracy: 0.64, Learning rate: 0.01, Weight Scale: 0.05, Layers: [100, 100, 100, 100]\n",
      "Accuracy: 0.52, Learning rate: 0.01, Weight Scale: 0.001, Layers: [100, 100, 100, 100]\n",
      "Accuracy: 0.52, Learning rate: 0.01, Weight Scale: 0.005, Layers: [100, 100, 100, 100]\n",
      "Accuracy: 0.52, Learning rate: 0.01, Weight Scale: 0.0001, Layers: [100, 100, 100, 100]\n",
      "Accuracy: 0.54, Learning rate: 0.01, Weight Scale: 0.0005, Layers: [100, 100, 100, 100]\n",
      "Accuracy: 0.48, Learning rate: 0.01, Weight Scale: 1e-05, Layers: [100, 100, 100, 100]\n",
      "Accuracy: 0.22, Learning rate: 0.05, Weight Scale: 0.1, Layers: [100, 100, 100, 100]\n",
      "Accuracy: 0.14, Learning rate: 0.05, Weight Scale: 0.5, Layers: [100, 100, 100, 100]\n",
      "Accuracy: 0.22, Learning rate: 0.05, Weight Scale: 0.01, Layers: [100, 100, 100, 100]\n",
      "Accuracy: 0.14, Learning rate: 0.05, Weight Scale: 0.05, Layers: [100, 100, 100, 100]\n",
      "Accuracy: 0.1, Learning rate: 0.05, Weight Scale: 0.001, Layers: [100, 100, 100, 100]\n",
      "Accuracy: 0.16, Learning rate: 0.05, Weight Scale: 0.005, Layers: [100, 100, 100, 100]\n",
      "Accuracy: 0.18, Learning rate: 0.05, Weight Scale: 0.0001, Layers: [100, 100, 100, 100]\n",
      "Accuracy: 0.18, Learning rate: 0.05, Weight Scale: 0.0005, Layers: [100, 100, 100, 100]\n",
      "Accuracy: 0.16, Learning rate: 0.05, Weight Scale: 1e-05, Layers: [100, 100, 100, 100]\n",
      "Accuracy: 0.76, Learning rate: 0.001, Weight Scale: 0.1, Layers: [100, 100, 100, 100]\n",
      "Accuracy: 0.78, Learning rate: 0.001, Weight Scale: 0.5, Layers: [100, 100, 100, 100]\n",
      "Accuracy: 0.68, Learning rate: 0.001, Weight Scale: 0.01, Layers: [100, 100, 100, 100]\n",
      "Accuracy: 0.7, Learning rate: 0.001, Weight Scale: 0.05, Layers: [100, 100, 100, 100]\n",
      "Accuracy: 0.72, Learning rate: 0.001, Weight Scale: 0.001, Layers: [100, 100, 100, 100]\n",
      "Accuracy: 0.72, Learning rate: 0.001, Weight Scale: 0.005, Layers: [100, 100, 100, 100]\n",
      "Accuracy: 0.8, Learning rate: 0.001, Weight Scale: 0.0001, Layers: [100, 100, 100, 100]\n",
      "Accuracy: 0.84, Learning rate: 0.001, Weight Scale: 0.0005, Layers: [100, 100, 100, 100]\n",
      "Accuracy: 0.8, Learning rate: 0.001, Weight Scale: 1e-05, Layers: [100, 100, 100, 100]\n",
      "Accuracy: 0.66, Learning rate: 0.005, Weight Scale: 0.1, Layers: [100, 100, 100, 100]\n",
      "Accuracy: 0.52, Learning rate: 0.005, Weight Scale: 0.5, Layers: [100, 100, 100, 100]\n",
      "Accuracy: 0.54, Learning rate: 0.005, Weight Scale: 0.01, Layers: [100, 100, 100, 100]\n",
      "Accuracy: 0.42, Learning rate: 0.005, Weight Scale: 0.05, Layers: [100, 100, 100, 100]\n",
      "Accuracy: 0.58, Learning rate: 0.005, Weight Scale: 0.001, Layers: [100, 100, 100, 100]\n",
      "Accuracy: 0.74, Learning rate: 0.005, Weight Scale: 0.005, Layers: [100, 100, 100, 100]\n",
      "Accuracy: 0.7, Learning rate: 0.005, Weight Scale: 0.0001, Layers: [100, 100, 100, 100]\n",
      "Accuracy: 0.62, Learning rate: 0.005, Weight Scale: 0.0005, Layers: [100, 100, 100, 100]\n",
      "Accuracy: 0.62, Learning rate: 0.005, Weight Scale: 1e-05, Layers: [100, 100, 100, 100]\n",
      "Accuracy: 0.26, Learning rate: 0.0001, Weight Scale: 0.1, Layers: [100, 100, 100, 100]\n",
      "Accuracy: 0.26, Learning rate: 0.0001, Weight Scale: 0.5, Layers: [100, 100, 100, 100]\n",
      "Accuracy: 0.3, Learning rate: 0.0001, Weight Scale: 0.01, Layers: [100, 100, 100, 100]\n",
      "Accuracy: 0.22, Learning rate: 0.0001, Weight Scale: 0.05, Layers: [100, 100, 100, 100]\n",
      "Accuracy: 0.14, Learning rate: 0.0001, Weight Scale: 0.001, Layers: [100, 100, 100, 100]\n",
      "Accuracy: 0.4, Learning rate: 0.0001, Weight Scale: 0.005, Layers: [100, 100, 100, 100]\n",
      "Accuracy: 0.18, Learning rate: 0.0001, Weight Scale: 0.0001, Layers: [100, 100, 100, 100]\n",
      "Accuracy: 0.26, Learning rate: 0.0001, Weight Scale: 0.0005, Layers: [100, 100, 100, 100]\n",
      "Accuracy: 0.3, Learning rate: 0.0001, Weight Scale: 1e-05, Layers: [100, 100, 100, 100]\n",
      "Accuracy: 0.66, Learning rate: 0.0005, Weight Scale: 0.1, Layers: [100, 100, 100, 100]\n",
      "Accuracy: 0.68, Learning rate: 0.0005, Weight Scale: 0.5, Layers: [100, 100, 100, 100]\n",
      "Accuracy: 0.66, Learning rate: 0.0005, Weight Scale: 0.01, Layers: [100, 100, 100, 100]\n",
      "Accuracy: 0.66, Learning rate: 0.0005, Weight Scale: 0.05, Layers: [100, 100, 100, 100]\n",
      "Accuracy: 0.7, Learning rate: 0.0005, Weight Scale: 0.001, Layers: [100, 100, 100, 100]\n",
      "Accuracy: 0.68, Learning rate: 0.0005, Weight Scale: 0.005, Layers: [100, 100, 100, 100]\n",
      "Accuracy: 0.7, Learning rate: 0.0005, Weight Scale: 0.0001, Layers: [100, 100, 100, 100]\n",
      "Accuracy: 0.7, Learning rate: 0.0005, Weight Scale: 0.0005, Layers: [100, 100, 100, 100]\n",
      "Accuracy: 0.58, Learning rate: 0.0005, Weight Scale: 1e-05, Layers: [100, 100, 100, 100]\n",
      "Accuracy: 0.18, Learning rate: 1e-05, Weight Scale: 0.1, Layers: [100, 100, 100, 100]\n",
      "Accuracy: 0.1, Learning rate: 1e-05, Weight Scale: 0.5, Layers: [100, 100, 100, 100]\n",
      "Accuracy: 0.06, Learning rate: 1e-05, Weight Scale: 0.01, Layers: [100, 100, 100, 100]\n",
      "Accuracy: 0.18, Learning rate: 1e-05, Weight Scale: 0.05, Layers: [100, 100, 100, 100]\n",
      "Accuracy: 0.1, Learning rate: 1e-05, Weight Scale: 0.001, Layers: [100, 100, 100, 100]\n",
      "Accuracy: 0.1, Learning rate: 1e-05, Weight Scale: 0.005, Layers: [100, 100, 100, 100]\n",
      "Accuracy: 0.1, Learning rate: 1e-05, Weight Scale: 0.0001, Layers: [100, 100, 100, 100]\n",
      "Accuracy: 0.06, Learning rate: 1e-05, Weight Scale: 0.0005, Layers: [100, 100, 100, 100]\n",
      "Accuracy: 0.14, Learning rate: 1e-05, Weight Scale: 1e-05, Layers: [100, 100, 100, 100]\n",
      "{'acc': 0.84, 'lr': 0.001, 'w': 0.0005, 'layers': [100, 100, 100, 100]}\n"
     ]
    }
   ],
   "source": [
    "# Coarse search\n",
    "lrs = [1e-1, 5e-1, 1e-2, 5e-2, 1e-3, 5e-3, 1e-4, 5e-4, 1e-5]\n",
    "weights = [1e-1, 5e-1, 1e-2, 5e-2, 1e-3, 5e-3, 1e-4, 5e-4, 1e-5]\n",
    "# layers = [\n",
    "#     [100, 100],\n",
    "#     [100, 100, 100],\n",
    "#     [100, 100, 100, 100],\n",
    "#     [50, 50],\n",
    "#     [50, 50, 50],\n",
    "#     [50, 50, 50, 50],\n",
    "# ]\n",
    "layers = [\n",
    "    [100, 100, 100, 100],   \n",
    "]\n",
    "\n",
    "best = {'acc': 0, 'lr': None, 'w': None, 'layers': None}\n",
    "results = []\n",
    "for lr in lrs:\n",
    "    for w in weights:\n",
    "        for l in layers:\n",
    "\n",
    "            model = FullyConnectedNet(l, weight_scale=weight_scale, dtype=np.float64)\n",
    "            acc = solve(model, lr, epochs=5).train_acc_history[-1]\n",
    "\n",
    "            \n",
    "            print(\"Accuracy: {}, Learning rate: {}, Weight Scale: {}, Layers: {}\".format(acc, lr, w, l))\n",
    "\n",
    "            current = {'acc': acc, 'lr': lr, 'w': w, 'layers': l}\n",
    "            results.append(current)\n",
    "\n",
    "            if acc > best['acc']:\n",
    "                best = current\n",
    "\n",
    "print(best)"
   ]
  },
  {
   "cell_type": "code",
   "execution_count": 0,
   "metadata": {
    "colab": {
     "base_uri": "https://localhost:8080/",
     "height": 925
    },
    "colab_type": "code",
    "executionInfo": {
     "elapsed": 24086,
     "status": "ok",
     "timestamp": 1586732969982,
     "user": {
      "displayName": "David Dobre",
      "photoUrl": "https://lh3.googleusercontent.com/a-/AOh14Gh6TavuMr2kfWBZw6CxywTCOAeqSYEQsVvQB3qJyw=s64",
      "userId": "01887987037090030935"
     },
     "user_tz": 420
    },
    "id": "LyTBq2GkpIQm",
    "outputId": "fd781237-ef35-4b65-f53d-5ab81d17eb50"
   },
   "outputs": [
    {
     "name": "stdout",
     "output_type": "stream",
     "text": [
      "Accuracy: 0.74, Learning rate: 0.0007, Weight Scale: 0.0002, Layers: [100, 100, 100, 100]\n",
      "Accuracy: 0.72, Learning rate: 0.0007, Weight Scale: 0.0003, Layers: [100, 100, 100, 100]\n",
      "Accuracy: 0.74, Learning rate: 0.0007, Weight Scale: 0.0004, Layers: [100, 100, 100, 100]\n",
      "Accuracy: 0.78, Learning rate: 0.0007, Weight Scale: 0.0005, Layers: [100, 100, 100, 100]\n",
      "Accuracy: 0.82, Learning rate: 0.0007, Weight Scale: 0.0006, Layers: [100, 100, 100, 100]\n",
      "Accuracy: 0.74, Learning rate: 0.0007, Weight Scale: 0.0007, Layers: [100, 100, 100, 100]\n",
      "Accuracy: 0.66, Learning rate: 0.0007, Weight Scale: 0.0008, Layers: [100, 100, 100, 100]\n",
      "Accuracy: 0.72, Learning rate: 0.0008, Weight Scale: 0.0002, Layers: [100, 100, 100, 100]\n",
      "Accuracy: 0.76, Learning rate: 0.0008, Weight Scale: 0.0003, Layers: [100, 100, 100, 100]\n",
      "Accuracy: 0.74, Learning rate: 0.0008, Weight Scale: 0.0004, Layers: [100, 100, 100, 100]\n",
      "Accuracy: 0.78, Learning rate: 0.0008, Weight Scale: 0.0005, Layers: [100, 100, 100, 100]\n",
      "Accuracy: 0.76, Learning rate: 0.0008, Weight Scale: 0.0006, Layers: [100, 100, 100, 100]\n",
      "Accuracy: 0.78, Learning rate: 0.0008, Weight Scale: 0.0007, Layers: [100, 100, 100, 100]\n",
      "Accuracy: 0.8, Learning rate: 0.0008, Weight Scale: 0.0008, Layers: [100, 100, 100, 100]\n",
      "Accuracy: 0.74, Learning rate: 0.0009, Weight Scale: 0.0002, Layers: [100, 100, 100, 100]\n",
      "Accuracy: 0.84, Learning rate: 0.0009, Weight Scale: 0.0003, Layers: [100, 100, 100, 100]\n",
      "Accuracy: 0.8, Learning rate: 0.0009, Weight Scale: 0.0004, Layers: [100, 100, 100, 100]\n",
      "Accuracy: 0.72, Learning rate: 0.0009, Weight Scale: 0.0005, Layers: [100, 100, 100, 100]\n",
      "Accuracy: 0.84, Learning rate: 0.0009, Weight Scale: 0.0006, Layers: [100, 100, 100, 100]\n",
      "Accuracy: 0.74, Learning rate: 0.0009, Weight Scale: 0.0007, Layers: [100, 100, 100, 100]\n",
      "Accuracy: 0.8, Learning rate: 0.0009, Weight Scale: 0.0008, Layers: [100, 100, 100, 100]\n",
      "Accuracy: 0.92, Learning rate: 0.001, Weight Scale: 0.0002, Layers: [100, 100, 100, 100]\n",
      "Accuracy: 0.84, Learning rate: 0.001, Weight Scale: 0.0003, Layers: [100, 100, 100, 100]\n",
      "Accuracy: 0.84, Learning rate: 0.001, Weight Scale: 0.0004, Layers: [100, 100, 100, 100]\n",
      "Accuracy: 0.74, Learning rate: 0.001, Weight Scale: 0.0005, Layers: [100, 100, 100, 100]\n",
      "Accuracy: 0.8, Learning rate: 0.001, Weight Scale: 0.0006, Layers: [100, 100, 100, 100]\n",
      "Accuracy: 0.76, Learning rate: 0.001, Weight Scale: 0.0007, Layers: [100, 100, 100, 100]\n",
      "Accuracy: 0.82, Learning rate: 0.001, Weight Scale: 0.0008, Layers: [100, 100, 100, 100]\n",
      "Accuracy: 0.76, Learning rate: 0.002, Weight Scale: 0.0002, Layers: [100, 100, 100, 100]\n",
      "Accuracy: 0.76, Learning rate: 0.002, Weight Scale: 0.0003, Layers: [100, 100, 100, 100]\n",
      "Accuracy: 0.84, Learning rate: 0.002, Weight Scale: 0.0004, Layers: [100, 100, 100, 100]\n",
      "Accuracy: 0.74, Learning rate: 0.002, Weight Scale: 0.0005, Layers: [100, 100, 100, 100]\n",
      "Accuracy: 0.68, Learning rate: 0.002, Weight Scale: 0.0006, Layers: [100, 100, 100, 100]\n",
      "Accuracy: 0.82, Learning rate: 0.002, Weight Scale: 0.0007, Layers: [100, 100, 100, 100]\n",
      "Accuracy: 0.76, Learning rate: 0.002, Weight Scale: 0.0008, Layers: [100, 100, 100, 100]\n",
      "Accuracy: 0.6, Learning rate: 0.003, Weight Scale: 0.0002, Layers: [100, 100, 100, 100]\n",
      "Accuracy: 0.76, Learning rate: 0.003, Weight Scale: 0.0003, Layers: [100, 100, 100, 100]\n",
      "Accuracy: 0.72, Learning rate: 0.003, Weight Scale: 0.0004, Layers: [100, 100, 100, 100]\n",
      "Accuracy: 0.6, Learning rate: 0.003, Weight Scale: 0.0005, Layers: [100, 100, 100, 100]\n",
      "Accuracy: 0.66, Learning rate: 0.003, Weight Scale: 0.0006, Layers: [100, 100, 100, 100]\n",
      "Accuracy: 0.66, Learning rate: 0.003, Weight Scale: 0.0007, Layers: [100, 100, 100, 100]\n",
      "Accuracy: 0.88, Learning rate: 0.003, Weight Scale: 0.0008, Layers: [100, 100, 100, 100]\n",
      "Accuracy: 0.64, Learning rate: 0.004, Weight Scale: 0.0002, Layers: [100, 100, 100, 100]\n",
      "Accuracy: 0.66, Learning rate: 0.004, Weight Scale: 0.0003, Layers: [100, 100, 100, 100]\n",
      "Accuracy: 0.7, Learning rate: 0.004, Weight Scale: 0.0004, Layers: [100, 100, 100, 100]\n",
      "Accuracy: 0.66, Learning rate: 0.004, Weight Scale: 0.0005, Layers: [100, 100, 100, 100]\n",
      "Accuracy: 0.7, Learning rate: 0.004, Weight Scale: 0.0006, Layers: [100, 100, 100, 100]\n",
      "Accuracy: 0.66, Learning rate: 0.004, Weight Scale: 0.0007, Layers: [100, 100, 100, 100]\n",
      "Accuracy: 0.62, Learning rate: 0.004, Weight Scale: 0.0008, Layers: [100, 100, 100, 100]\n",
      "{'acc': 0.92, 'lr': 0.001, 'w': 0.0002, 'layers': [100, 100, 100, 100]}\n"
     ]
    }
   ],
   "source": [
    "# Best = {'acc': 0.84, 'lr': 0.001, 'w': 0.0005, 'layers': [100, 100, 100, 100]}\n",
    "\n",
    "# Fine search\n",
    "lrs = [0.0007, 0.0008, 0.0009, 0.001, 0.002, 0.003, 0.004 ]\n",
    "weights = [0.0002, 0.0003, 0.0004, 0.0005, 0.0006, 0.0007, 0.0008]\n",
    "layers = [[100, 100, 100, 100]]\n",
    "\n",
    "best = {'acc': 0, 'lr': None, 'w': None, 'layers': None}\n",
    "results = []\n",
    "for lr in lrs:\n",
    "    for w in weights:\n",
    "        for l in layers:\n",
    "\n",
    "            model = FullyConnectedNet(l, weight_scale=weight_scale, dtype=np.float64)\n",
    "            acc = solve(model, lr, epochs=5).train_acc_history[-1]\n",
    "\n",
    "            print(\"Accuracy: {}, Learning rate: {}, Weight Scale: {}, Layers: {}\".format(acc, lr, w, l))\n",
    "\n",
    "            current = {'acc': acc, 'lr': lr, 'w': w, 'layers': l}\n",
    "            results.append(current)\n",
    "\n",
    "            if acc > best['acc']:\n",
    "                best = current\n",
    "\n",
    "print(best)"
   ]
  },
  {
   "cell_type": "code",
   "execution_count": 0,
   "metadata": {
    "colab": {
     "base_uri": "https://localhost:8080/",
     "height": 1000
    },
    "colab_type": "code",
    "executionInfo": {
     "elapsed": 545007,
     "status": "ok",
     "timestamp": 1586733554601,
     "user": {
      "displayName": "David Dobre",
      "photoUrl": "https://lh3.googleusercontent.com/a-/AOh14Gh6TavuMr2kfWBZw6CxywTCOAeqSYEQsVvQB3qJyw=s64",
      "userId": "01887987037090030935"
     },
     "user_tz": 420
    },
    "id": "xIg8h2knlmDw",
    "outputId": "706bf609-7caf-402a-ec3f-e4284088a918"
   },
   "outputs": [
    {
     "name": "stdout",
     "output_type": "stream",
     "text": [
      "(Iteration 1 / 29400) loss: 2.302585\n",
      "(Epoch 0 / 15) train acc: 0.098000; val_acc: 0.105000\n",
      "(Iteration 251 / 29400) loss: 2.064896\n",
      "(Iteration 501 / 29400) loss: 2.139311\n",
      "(Iteration 751 / 29400) loss: 1.861642\n",
      "(Iteration 1001 / 29400) loss: 2.068064\n",
      "(Iteration 1251 / 29400) loss: 2.082202\n",
      "(Iteration 1501 / 29400) loss: 1.956699\n",
      "(Iteration 1751 / 29400) loss: 1.932851\n",
      "(Epoch 1 / 15) train acc: 0.354000; val_acc: 0.333000\n",
      "(Iteration 2001 / 29400) loss: 1.631279\n",
      "(Iteration 2251 / 29400) loss: 1.454096\n",
      "(Iteration 2501 / 29400) loss: 1.642640\n",
      "(Iteration 2751 / 29400) loss: 1.756565\n",
      "(Iteration 3001 / 29400) loss: 1.939815\n",
      "(Iteration 3251 / 29400) loss: 1.699641\n",
      "(Iteration 3501 / 29400) loss: 1.926639\n",
      "(Iteration 3751 / 29400) loss: 1.661685\n",
      "(Epoch 2 / 15) train acc: 0.439000; val_acc: 0.395000\n",
      "(Iteration 4001 / 29400) loss: 1.260598\n",
      "(Iteration 4251 / 29400) loss: 1.090819\n",
      "(Iteration 4501 / 29400) loss: 1.674526\n",
      "(Iteration 4751 / 29400) loss: 1.636722\n",
      "(Iteration 5001 / 29400) loss: 1.812439\n",
      "(Iteration 5251 / 29400) loss: 1.327828\n",
      "(Iteration 5501 / 29400) loss: 1.469256\n",
      "(Iteration 5751 / 29400) loss: 1.552987\n",
      "(Epoch 3 / 15) train acc: 0.447000; val_acc: 0.431000\n",
      "(Iteration 6001 / 29400) loss: 1.697824\n",
      "(Iteration 6251 / 29400) loss: 1.470478\n",
      "(Iteration 6501 / 29400) loss: 1.749982\n",
      "(Iteration 6751 / 29400) loss: 1.563269\n",
      "(Iteration 7001 / 29400) loss: 1.383107\n",
      "(Iteration 7251 / 29400) loss: 1.686860\n",
      "(Iteration 7501 / 29400) loss: 1.366460\n",
      "(Iteration 7751 / 29400) loss: 1.643262\n",
      "(Epoch 4 / 15) train acc: 0.458000; val_acc: 0.435000\n",
      "(Iteration 8001 / 29400) loss: 1.521560\n",
      "(Iteration 8251 / 29400) loss: 0.963674\n",
      "(Iteration 8501 / 29400) loss: 1.198694\n",
      "(Iteration 8751 / 29400) loss: 1.654243\n",
      "(Iteration 9001 / 29400) loss: 1.330728\n",
      "(Iteration 9251 / 29400) loss: 1.516132\n",
      "(Iteration 9501 / 29400) loss: 1.561277\n",
      "(Iteration 9751 / 29400) loss: 1.560617\n",
      "(Epoch 5 / 15) train acc: 0.481000; val_acc: 0.453000\n",
      "(Iteration 10001 / 29400) loss: 1.816585\n",
      "(Iteration 10251 / 29400) loss: 1.530629\n",
      "(Iteration 10501 / 29400) loss: 1.373237\n",
      "(Iteration 10751 / 29400) loss: 1.677958\n",
      "(Iteration 11001 / 29400) loss: 1.178060\n",
      "(Iteration 11251 / 29400) loss: 1.137373\n",
      "(Iteration 11501 / 29400) loss: 1.598423\n",
      "(Iteration 11751 / 29400) loss: 1.156486\n",
      "(Epoch 6 / 15) train acc: 0.485000; val_acc: 0.475000\n",
      "(Iteration 12001 / 29400) loss: 1.342003\n",
      "(Iteration 12251 / 29400) loss: 1.309643\n",
      "(Iteration 12501 / 29400) loss: 1.650164\n",
      "(Iteration 12751 / 29400) loss: 1.317382\n",
      "(Iteration 13001 / 29400) loss: 1.259411\n",
      "(Iteration 13251 / 29400) loss: 1.543846\n",
      "(Iteration 13501 / 29400) loss: 1.687642\n",
      "(Epoch 7 / 15) train acc: 0.497000; val_acc: 0.470000\n",
      "(Iteration 13751 / 29400) loss: 1.557858\n",
      "(Iteration 14001 / 29400) loss: 1.471156\n",
      "(Iteration 14251 / 29400) loss: 1.404005\n",
      "(Iteration 14501 / 29400) loss: 1.389408\n",
      "(Iteration 14751 / 29400) loss: 1.490136\n",
      "(Iteration 15001 / 29400) loss: 1.146563\n",
      "(Iteration 15251 / 29400) loss: 1.329507\n",
      "(Iteration 15501 / 29400) loss: 1.290140\n",
      "(Epoch 8 / 15) train acc: 0.504000; val_acc: 0.450000\n",
      "(Iteration 15751 / 29400) loss: 1.727096\n",
      "(Iteration 16001 / 29400) loss: 1.097201\n",
      "(Iteration 16251 / 29400) loss: 1.135929\n",
      "(Iteration 16501 / 29400) loss: 1.511427\n",
      "(Iteration 16751 / 29400) loss: 1.280633\n",
      "(Iteration 17001 / 29400) loss: 1.481865\n",
      "(Iteration 17251 / 29400) loss: 1.220400\n",
      "(Iteration 17501 / 29400) loss: 1.204267\n",
      "(Epoch 9 / 15) train acc: 0.515000; val_acc: 0.467000\n",
      "(Iteration 17751 / 29400) loss: 0.902149\n",
      "(Iteration 18001 / 29400) loss: 1.465933\n",
      "(Iteration 18251 / 29400) loss: 1.591429\n",
      "(Iteration 18501 / 29400) loss: 1.536397\n",
      "(Iteration 18751 / 29400) loss: 1.278064\n",
      "(Iteration 19001 / 29400) loss: 1.321193\n",
      "(Iteration 19251 / 29400) loss: 1.550077\n",
      "(Iteration 19501 / 29400) loss: 0.874937\n",
      "(Epoch 10 / 15) train acc: 0.542000; val_acc: 0.499000\n",
      "(Iteration 19751 / 29400) loss: 1.418159\n",
      "(Iteration 20001 / 29400) loss: 0.817322\n",
      "(Iteration 20251 / 29400) loss: 1.511526\n",
      "(Iteration 20501 / 29400) loss: 1.192808\n",
      "(Iteration 20751 / 29400) loss: 1.302969\n",
      "(Iteration 21001 / 29400) loss: 1.227305\n",
      "(Iteration 21251 / 29400) loss: 1.639195\n",
      "(Iteration 21501 / 29400) loss: 1.501529\n",
      "(Epoch 11 / 15) train acc: 0.519000; val_acc: 0.466000\n",
      "(Iteration 21751 / 29400) loss: 1.191581\n",
      "(Iteration 22001 / 29400) loss: 1.223894\n",
      "(Iteration 22251 / 29400) loss: 1.311622\n",
      "(Iteration 22501 / 29400) loss: 1.641511\n",
      "(Iteration 22751 / 29400) loss: 1.489652\n",
      "(Iteration 23001 / 29400) loss: 1.088051\n",
      "(Iteration 23251 / 29400) loss: 1.126661\n",
      "(Iteration 23501 / 29400) loss: 1.403740\n",
      "(Epoch 12 / 15) train acc: 0.526000; val_acc: 0.481000\n",
      "(Iteration 23751 / 29400) loss: 1.347451\n",
      "(Iteration 24001 / 29400) loss: 1.584342\n",
      "(Iteration 24251 / 29400) loss: 1.402032\n",
      "(Iteration 24501 / 29400) loss: 1.028383\n",
      "(Iteration 24751 / 29400) loss: 0.755463\n",
      "(Iteration 25001 / 29400) loss: 1.511042\n",
      "(Iteration 25251 / 29400) loss: 1.341598\n",
      "(Epoch 13 / 15) train acc: 0.544000; val_acc: 0.450000\n",
      "(Iteration 25501 / 29400) loss: 1.112084\n",
      "(Iteration 25751 / 29400) loss: 1.677478\n",
      "(Iteration 26001 / 29400) loss: 1.680916\n",
      "(Iteration 26251 / 29400) loss: 1.416340\n",
      "(Iteration 26501 / 29400) loss: 1.141177\n",
      "(Iteration 26751 / 29400) loss: 1.224292\n",
      "(Iteration 27001 / 29400) loss: 1.835859\n",
      "(Iteration 27251 / 29400) loss: 1.585426\n",
      "(Epoch 14 / 15) train acc: 0.578000; val_acc: 0.488000\n",
      "(Iteration 27501 / 29400) loss: 1.168249\n",
      "(Iteration 27751 / 29400) loss: 1.050287\n",
      "(Iteration 28001 / 29400) loss: 1.319582\n",
      "(Iteration 28251 / 29400) loss: 1.218611\n",
      "(Iteration 28501 / 29400) loss: 0.972882\n",
      "(Iteration 28751 / 29400) loss: 1.406283\n",
      "(Iteration 29001 / 29400) loss: 1.218345\n",
      "(Iteration 29251 / 29400) loss: 1.303321\n",
      "(Epoch 15 / 15) train acc: 0.571000; val_acc: 0.484000\n"
     ]
    }
   ],
   "source": [
    "# best = {'acc': 0.92, 'lr': 0.001, 'w': 0.0002, 'layers': [100, 100, 100, 100]}\n",
    "\n",
    "lr = 0.001\n",
    "w = 0.0002\n",
    "layers = [100, 100, 100, 100]\n",
    "\n",
    "best_model = FullyConnectedNet(layers, weight_scale=w, dtype=np.float64)\n",
    "solver = solve(best_model, lr, epochs=15, full_dataset=True, quiet_outputs=False, print_every=250)"
   ]
  },
  {
   "cell_type": "code",
   "execution_count": 0,
   "metadata": {
    "colab": {
     "base_uri": "https://localhost:8080/",
     "height": 513
    },
    "colab_type": "code",
    "executionInfo": {
     "elapsed": 649,
     "status": "ok",
     "timestamp": 1586733817624,
     "user": {
      "displayName": "David Dobre",
      "photoUrl": "https://lh3.googleusercontent.com/a-/AOh14Gh6TavuMr2kfWBZw6CxywTCOAeqSYEQsVvQB3qJyw=s64",
      "userId": "01887987037090030935"
     },
     "user_tz": 420
    },
    "id": "aMbx8jlLk8Li",
    "outputId": "3f4d2c9f-ebec-4604-fc8c-94aa66f58c32"
   },
   "outputs": [
    {
     "data": {
      "image/png": "[encoded data removed]",
      "text/plain": [
       "<Figure size 720x576 with 1 Axes>"
      ]
     },
     "metadata": {
      "needs_background": "light",
      "tags": []
     },
     "output_type": "display_data"
    }
   ],
   "source": [
    "plt.plot(solver.train_acc_history, 'b', label=\"Training\")\n",
    "plt.plot(solver.val_acc_history, 'r', label=\"Validation\")\n",
    "plt.legend()\n",
    "plt.grid()\n",
    "plt.title('Training and Validation Accuracy')\n",
    "plt.xlabel('Epoch')\n",
    "plt.ylabel('Accuracy')\n",
    "plt.show()"
   ]
  },
  {
   "cell_type": "markdown",
   "metadata": {
    "colab_type": "text",
    "id": "PKT0IEpk-8It"
   },
   "source": [
    "# Test your model!\n",
    "Run your best model on the validation and test sets. You should achieve above 50% accuracy on the validation set."
   ]
  },
  {
   "cell_type": "code",
   "execution_count": 0,
   "metadata": {
    "colab": {
     "base_uri": "https://localhost:8080/",
     "height": 53
    },
    "colab_type": "code",
    "executionInfo": {
     "elapsed": 472,
     "status": "ok",
     "timestamp": 1586733839460,
     "user": {
      "displayName": "David Dobre",
      "photoUrl": "https://lh3.googleusercontent.com/a-/AOh14Gh6TavuMr2kfWBZw6CxywTCOAeqSYEQsVvQB3qJyw=s64",
      "userId": "01887987037090030935"
     },
     "user_tz": 420
    },
    "id": "zXrX_sTX-8Iu",
    "outputId": "7cf3190b-7c6c-48ee-b6b3-ba1f3388ba32"
   },
   "outputs": [
    {
     "name": "stdout",
     "output_type": "stream",
     "text": [
      "Validation set accuracy:  0.499\n",
      "Test set accuracy:  0.495\n"
     ]
    }
   ],
   "source": [
    "y_test_pred = np.argmax(best_model.loss(data['X_test']), axis=1)\n",
    "y_val_pred = np.argmax(best_model.loss(data['X_val']), axis=1)\n",
    "print('Validation set accuracy: ', (y_val_pred == data['y_val']).mean())\n",
    "print('Test set accuracy: ', (y_test_pred == data['y_test']).mean())"
   ]
  },
  {
   "cell_type": "code",
   "execution_count": 0,
   "metadata": {
    "colab": {},
    "colab_type": "code",
    "id": "aWnmB7CDtPI6"
   },
   "outputs": [],
   "source": []
  }
 ],
 "metadata": {
  "colab": {
   "collapsed_sections": [],
   "name": "FullyConnectedNets.ipynb",
   "provenance": [],
   "toc_visible": true
  },
  "kernelspec": {
   "display_name": "Python 3",
   "language": "python",
   "name": "python3"
  },
  "language_info": {
   "codemirror_mode": {
    "name": "ipython",
    "version": 3
   },
   "file_extension": ".py",
   "mimetype": "text/x-python",
   "name": "python",
   "nbconvert_exporter": "python",
   "pygments_lexer": "ipython3",
   "version": "3.6.9"
  }
 },
 "nbformat": 4,
 "nbformat_minor": 1
}
